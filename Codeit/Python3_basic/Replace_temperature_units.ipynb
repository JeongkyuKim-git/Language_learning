{
 "cells": [
  {
   "cell_type": "markdown",
   "metadata": {},
   "source": [
    "# 온도 단위 바꾸기\n",
    "- 화씨 온도(°F)를 섭씨 온도(°C)로 바꾸어주는 프로그램을 만들려고 합니다.\n",
    "- 섭씨와 화씨의 관계식은 다음과 같습니다:\n",
    "li\n",
    "\n",
    "   $$ °C = {(°F-32)*5 \\over 9}$$\n",
    "   \n",
    "- 화씨 온도를 섭씨 온도로 변환해 주는 함수 fahrenheit_to_celsius를 써 보세요. 이 함수를 파라미터로 화씨 온도 fahrenheit를 받고, 변환된 섭씨 온도를 리턴합니다.\n",
    "\n",
    "- 위 프로그램을 실행하면 아래처럼 출력되어야 합니다."
   ]
  },
  {
   "cell_type": "markdown",
   "metadata": {},
   "source": [
    "``` python\n",
    "화씨 온도 리스트: [40, 15, 32, 64, -4, 11]\n",
    "섭씨 온도 리스트: [4.4, -9.4, 0.0, 17.8, -20.0, -11.7]\n",
    "```"
   ]
  },
  {
   "cell_type": "code",
   "execution_count": 14,
   "metadata": {},
   "outputs": [
    {
     "name": "stdout",
     "output_type": "stream",
     "text": [
      "화씨 온도 리스트: [40, 15, 32, 64, -4, 11]\n",
      "섭씨 온도 리스트: [4.4, -9.4, 0.0, 17.8, -20.0, -11.7]\n"
     ]
    }
   ],
   "source": [
    "# 화씨 온도에서 섭씨 온도로 바꿔 주는 함수\n",
    "def fahrenheit_to_celsius(fahrenheit):\n",
    "    return ((fahrenheit - 32) * 5 / 9)\n",
    "    \n",
    "temperature_list = [40, 15, 32, 64, -4, 11]\n",
    "print(\"화씨 온도 리스트: \" + str(temperature_list))  # 화씨 온도 출력\n",
    "\n",
    "i = 0\n",
    "# round = float (해당 값, 자리수 (번호))\n",
    "while i <= len(temperature_list)-1:\n",
    "    temperature_list[i]=round(fahrenheit_to_celsius(temperature_list[i]),1)\n",
    "    i += 1\n",
    "\n",
    "# 리스트의 값들을 화씨에서 섭씨로 변환 하는 코드를 입력하세요.\n",
    "print(f\"섭씨 온도 리스트: {temperature_list}\")  # 섭씨 온도 출력"
   ]
  }
 ],
 "metadata": {
  "kernelspec": {
   "display_name": "Python 3",
   "language": "python",
   "name": "python3"
  },
  "language_info": {
   "codemirror_mode": {
    "name": "ipython",
    "version": 3
   },
   "file_extension": ".py",
   "mimetype": "text/x-python",
   "name": "python",
   "nbconvert_exporter": "python",
   "pygments_lexer": "ipython3",
   "version": "3.8.5"
  }
 },
 "nbformat": 4,
 "nbformat_minor": 4
}
