{
 "cells": [
  {
   "cell_type": "markdown",
   "metadata": {},
   "source": [
    "# 리스트 함수 활용하기\n",
    "- 리스트 함수를 활용하여 아래의 지시 사항을 따르세요.\n",
    "\n",
    "<ol>\n",
    "    <li>numbers라는 빈 리스트를 만들고 리스트를 출력한다.</li>\n",
    "    <li>append를 이용해서 numbers에 1, 7, 3, 6, 5, 2, 13, 14를 순서대로 추가한다. 그 후 리스트를 출력한다.</li>\n",
    "    <li>numbers 리스트의 원소들 중 홀수는 모두 제거한다. 그 후 다시 리스트를 출력한다.</li>\n",
    "    <li>numbers 리스트의 인덱스 0 자리에 20이라는 수를 삽입한 후 출력한다.</li>\n",
    "    <li>numbers 리스트를 정렬한 후 출력한다.</li>\n",
    "<ol>"
   ]
  },
  {
   "cell_type": "markdown",
   "metadata": {},
   "source": [
    "### 실행 결과\n",
    "\n",
    "```python\n",
    "[]\n",
    "[1, 7, 3, 6, 5, 2, 13, 14]\n",
    "[6, 2, 14]\n",
    "[20, 6, 2, 14]\n",
    "[2, 6, 14, 20]\n",
    "```"
   ]
  },
  {
   "cell_type": "code",
   "execution_count": 33,
   "metadata": {},
   "outputs": [
    {
     "name": "stdout",
     "output_type": "stream",
     "text": [
      "[]\n",
      "[1, 7, 3, 6, 5, 2, 13, 14]\n",
      "[6, 2, 14]\n",
      "[20, 6, 2, 14]\n",
      "[2, 6, 14, 20]\n"
     ]
    }
   ],
   "source": [
    "# 빈 리스트 만들기\n",
    "numbers = []\n",
    "print(numbers)\n",
    "\n",
    "# numbers에 값들 추가\n",
    "# 코드를 입력하세요\n",
    "numbers = [1,7,3,6,5,2,13,14]\n",
    "print(numbers)\n",
    "\n",
    "# numbers에서 홀수 제거\n",
    "# 코드를 입력하세요\n",
    "i = 0\n",
    "while i<=len(numbers)-1:\n",
    "    if numbers[i] %2 == True:\n",
    "        del numbers[i]   \n",
    "    else:\n",
    "        i+=1            \n",
    "print(numbers)\n",
    "\n",
    "# numbers의 인덱스 0 자리에 20이라는 값 삽입\n",
    "# 코드를 입력하세요\n",
    "numbers.insert(0,20)\n",
    "print(numbers)\n",
    "\n",
    "# numbers를 정렬해서 출력\n",
    "# 코드를 입력하세요\n",
    "numbers.sort()\n",
    "print(numbers)\n"
   ]
  },
  {
   "cell_type": "markdown",
   "metadata": {},
   "source": [
    "### 리스트에서 값의 존재 확인하기\n",
    "- 어떤 값이 리스트에 있는지 확인하는 함수를 써보겠습니다."
   ]
  },
  {
   "cell_type": "code",
   "execution_count": 32,
   "metadata": {},
   "outputs": [
    {
     "name": "stdout",
     "output_type": "stream",
     "text": [
      "True\n",
      "False\n"
     ]
    }
   ],
   "source": [
    "# value가 some_list의 요소인지 확인\n",
    "def in_list(some_list, value):\n",
    "    i = 0\n",
    "    while i < len(some_list):\n",
    "        # some_list에서 value를 찾으면 True를 리턴\n",
    "        if some_list[i] == value:\n",
    "            return True\n",
    "        i = i + 1\n",
    "\n",
    "    # 만약 some_list에서 value를 발견하지 못했으면 False를 리턴\n",
    "    return False\n",
    "\n",
    "# 테스트\n",
    "primes = [2, 3, 5, 7, 11, 13, 17, 19, 23]\n",
    "print(in_list(primes, 7))\n",
    "print(in_list(primes, 12))"
   ]
  },
  {
   "cell_type": "markdown",
   "metadata": {},
   "source": [
    "- 하지만 리스트에 값의 존재를 확인하는 것은 너무 자주 있는 일이라서 파이썬에 이미 이 기능이 내장되어 있습니다. in이라는 키워드를 쓰면 됩니다."
   ]
  },
  {
   "cell_type": "code",
   "execution_count": 34,
   "metadata": {},
   "outputs": [
    {
     "name": "stdout",
     "output_type": "stream",
     "text": [
      "True\n",
      "False\n"
     ]
    }
   ],
   "source": [
    "primes = [2, 3, 5, 7, 11, 13, 17, 19, 23]\n",
    "print(7 in primes)\n",
    "print(12 in primes)"
   ]
  },
  {
   "cell_type": "markdown",
   "metadata": {},
   "source": [
    "- 거꾸로 값이 없는지 확인하려면 in 앞에 not을 붙이면 됩니다."
   ]
  },
  {
   "cell_type": "code",
   "execution_count": 35,
   "metadata": {},
   "outputs": [
    {
     "name": "stdout",
     "output_type": "stream",
     "text": [
      "False\n",
      "True\n"
     ]
    }
   ],
   "source": [
    "primes = [2, 3, 5, 7, 11, 13, 17, 19, 23]\n",
    "print(7 not in primes)\n",
    "print(12 not in primes)"
   ]
  },
  {
   "cell_type": "markdown",
   "metadata": {},
   "source": [
    "### 리스트 안의 리스트 (Nested List)\n",
    "- 리스트 안에는 또 다른 리스트가 있을 수 있습니다. 이를 영어로 nested list라고 부릅니다."
   ]
  },
  {
   "cell_type": "code",
   "execution_count": 36,
   "metadata": {},
   "outputs": [
    {
     "name": "stdout",
     "output_type": "stream",
     "text": [
      "[62, 75, 77]\n",
      "[85, 91, 89]\n",
      "62\n",
      "91\n",
      "75.0\n"
     ]
    }
   ],
   "source": [
    "# 세 번의 시험을 보는 수업\n",
    "grades = [[62, 75, 77], [78, 81, 86], [85, 91, 89]]\n",
    "\n",
    "# 첫 번째 학생의 성적\n",
    "print(grades[0])\n",
    "\n",
    "# 세 번째 학생의 성적\n",
    "print(grades[2])\n",
    "\n",
    "# 첫 번째 학생의 첫 번째 시험 성적\n",
    "print(grades[0][0])\n",
    "\n",
    "# 세 번째 학생의 두 번째 시험 성적\n",
    "print(grades[2][1])\n",
    "\n",
    "# 첫 번째 시험의 평균\n",
    "print((grades[0][0] + grades[1][0] + grades[2][0]) / 3)"
   ]
  },
  {
   "cell_type": "markdown",
   "metadata": {},
   "source": [
    "### sort 메소드\n",
    "- 정렬된 새로운 리스트를 리턴시켜주는 sorted 함수를 사용해봅시다. some_list.sort()는 새로운 리스트를 생성하지 않고 some_list를 정렬된 상태로 바꿔줍니다."
   ]
  },
  {
   "cell_type": "code",
   "execution_count": 37,
   "metadata": {},
   "outputs": [
    {
     "name": "stdout",
     "output_type": "stream",
     "text": [
      "[1, 3, 5, 7]\n"
     ]
    }
   ],
   "source": [
    "numbers = [5, 3, 7, 1]\n",
    "numbers.sort()\n",
    "print(numbers)"
   ]
  },
  {
   "cell_type": "markdown",
   "metadata": {},
   "source": [
    "### reverse 메소드\n",
    "- some_list.reverse()는 some_list의 원소들을 뒤집어진 순서로 배치합니다."
   ]
  },
  {
   "cell_type": "code",
   "execution_count": 38,
   "metadata": {},
   "outputs": [
    {
     "name": "stdout",
     "output_type": "stream",
     "text": [
      "[1, 7, 3, 5]\n"
     ]
    }
   ],
   "source": [
    "numbers = [5, 3, 7, 1]\n",
    "numbers.reverse()\n",
    "print(numbers)"
   ]
  },
  {
   "cell_type": "markdown",
   "metadata": {},
   "source": [
    "### index 메소드\n",
    "- some_list.index(x)는some_list에서 x의 값을 갖고 있는 원소의 인덱스를 리턴해줍니다."
   ]
  },
  {
   "cell_type": "code",
   "execution_count": 39,
   "metadata": {},
   "outputs": [
    {
     "name": "stdout",
     "output_type": "stream",
     "text": [
      "1\n",
      "2\n"
     ]
    }
   ],
   "source": [
    "members = [\"영훈\", \"윤수\", \"태호\", \"혜린\"]\n",
    "print(members.index(\"윤수\"))\n",
    "print(members.index(\"태호\"))"
   ]
  },
  {
   "cell_type": "markdown",
   "metadata": {},
   "source": [
    "### remove 메소드\n",
    "- some_list.remove(x)는some_list에서 첫 번째로 x의 값을 갖고 있는 원소를 삭제해줍니다."
   ]
  },
  {
   "cell_type": "code",
   "execution_count": 40,
   "metadata": {},
   "outputs": [
    {
     "name": "stdout",
     "output_type": "stream",
     "text": [
      "['딸기', '당근', '수박', '참외', '메론']\n"
     ]
    }
   ],
   "source": [
    "fruits = [\"딸기\", \"당근\", \"파인애플\", \"수박\", \"참외\", \"메론\"]\n",
    "fruits.remove(\"파인애플\")\n",
    "print(fruits)"
   ]
  },
  {
   "cell_type": "code",
   "execution_count": null,
   "metadata": {},
   "outputs": [],
   "source": []
  }
 ],
 "metadata": {
  "kernelspec": {
   "display_name": "Python 3",
   "language": "python",
   "name": "python3"
  },
  "language_info": {
   "codemirror_mode": {
    "name": "ipython",
    "version": 3
   },
   "file_extension": ".py",
   "mimetype": "text/x-python",
   "name": "python",
   "nbconvert_exporter": "python",
   "pygments_lexer": "ipython3",
   "version": "3.8.5"
  }
 },
 "nbformat": 4,
 "nbformat_minor": 4
}
