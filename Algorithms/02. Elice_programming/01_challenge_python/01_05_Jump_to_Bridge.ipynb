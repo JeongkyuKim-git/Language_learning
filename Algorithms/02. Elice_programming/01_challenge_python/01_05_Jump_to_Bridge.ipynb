{
 "cells": [
  {
   "cell_type": "markdown",
   "id": "cd6258a4",
   "metadata": {},
   "source": [
    "# 구름다리를 건너는 토끼\n",
    "- 토끼는 강을 건너기 위해 구름다리를 건너려고 합니다.\n",
    "<br>\n",
    "\n",
    "```python\n",
    "def crossBridge(steps):\n",
    "    cnt = 0\n",
    "    current = 0\n",
    "    n = len(steps)\n",
    "    while (/* 이곳을 채워주세요! */):\n",
    "        current += /* 이곳을 채워주세요! */\n",
    "        cnt += 1\n",
    "    return cnt\n",
    "\n",
    "print(crossBridge([1, 1, 2, 3, 5]))\n",
    "```\n",
    "\n",
    "<figure>\n",
    "    <img src=\"./image_05.png\" title=\"알림\">    \n",
    "</figure>\n",
    "\n",
    "- 구름다리의 발판에 적혀있는 숫자가 첫 번째부터 순서대로 들어있는 배열 steps가 매개변수로 주어질 때, 토끼가 구름다리를 모두 건너기 위해 필요한 점프 횟수를 반환하도록 crossBridge 함수를 작성하고자 합니다."
   ]
  },
  {
   "cell_type": "markdown",
   "id": "01dcdc3b",
   "metadata": {},
   "source": [
    "* * *\n",
    "#### 호출\n",
    "crossBridge([1, 1, 2, 3, 5])"
   ]
  },
  {
   "cell_type": "markdown",
   "id": "d5f981b7",
   "metadata": {},
   "source": [
    "#### 다음 값이 반환됩니다.\n",
    "4\n",
    "* * *"
   ]
  },
  {
   "cell_type": "markdown",
   "id": "6456ba85",
   "metadata": {},
   "source": [
    "### 처음 수정한 코드"
   ]
  },
  {
   "cell_type": "code",
   "execution_count": 90,
   "id": "3f7f3b8f",
   "metadata": {},
   "outputs": [
    {
     "name": "stdout",
     "output_type": "stream",
     "text": [
      "Index 값 [1, 1, 2, 3, 5]\n",
      "총 길이 값 5\n",
      "\n",
      "1번째 칸이 숫자 1이므로 1칸 점프합니다.\n",
      "2번째 칸이 숫자 1이므로 1칸 점프합니다.\n",
      "3번째 칸이 숫자 2이므로 2칸 점프합니다.\n",
      "4번째 칸이 숫자 5이므로 5칸 점프합니다.(도착)\n",
      "4번 점프했으므로 4를 반환합니다.\n",
      "4\n"
     ]
    }
   ],
   "source": [
    "def crossBridge(steps):\n",
    "    cnt = 0\n",
    "    current = 0\n",
    "    print(\"Index 값\",steps)\n",
    "    \n",
    "    n = len(steps)\n",
    "    print(\"총 길이 값\",n)\n",
    "    \n",
    "    while(current < n):\n",
    "        if current < n:\n",
    "            print(\"\")\n",
    "            print(f'{cnt+1}번째 칸이 숫자 {steps[current]}이므로 {steps[current]}칸 점프합니다.', end = \"\")\n",
    "            current += steps[current]\n",
    "        \n",
    "        cnt += 1\n",
    "        if current > n:\n",
    "            print(\"(도착)\")\n",
    "            print(f'{cnt}번 점프했으므로 {cnt}를 반환합니다.')\n",
    "    return cnt\n",
    "    \n",
    "#     while (n == cnt):\n",
    "#         current += cnt\n",
    "#         cnt += 1\n",
    "#         print(cnt)\n",
    "#     return cnt\n",
    "    \n",
    "print(crossBridge([1, 1, 2, 3, 5]))"
   ]
  },
  {
   "cell_type": "markdown",
   "id": "2357b9ac",
   "metadata": {},
   "source": [
    "### 최종 코드"
   ]
  },
  {
   "cell_type": "code",
   "execution_count": 92,
   "id": "4855f7e6",
   "metadata": {},
   "outputs": [
    {
     "name": "stdout",
     "output_type": "stream",
     "text": [
      "4\n"
     ]
    }
   ],
   "source": [
    "def crossBridge(steps):\n",
    "    cnt = 0\n",
    "    current = 0\n",
    "#     print(\"Index 값\",steps)\n",
    "    \n",
    "    n = len(steps)\n",
    "#     print(\"총 길이 값\",n)\n",
    "    \n",
    "    while(current < n):\n",
    "        if current < n:\n",
    "#             print(\"\")\n",
    "#             print(f'{cnt+1}번째 칸이 숫자 {steps[current]}이므로 {steps[current]}칸 점프합니다.', end = \"\")\n",
    "            current += steps[current]\n",
    "        \n",
    "        cnt += 1\n",
    "#         if current > n:\n",
    "#             print(\"(도착)\")\n",
    "#             print(f'{cnt}번 점프했으므로 {cnt}를 반환합니다.')\n",
    "    return cnt\n",
    "    \n",
    "#     while (n == cnt):\n",
    "#         current += cnt\n",
    "#         cnt += 1\n",
    "#         print(cnt)\n",
    "#     return cnt\n",
    "    \n",
    "print(crossBridge([1, 1, 2, 3, 5]))"
   ]
  }
 ],
 "metadata": {
  "kernelspec": {
   "display_name": "Python 3 (ipykernel)",
   "language": "python",
   "name": "python3"
  },
  "language_info": {
   "codemirror_mode": {
    "name": "ipython",
    "version": 3
   },
   "file_extension": ".py",
   "mimetype": "text/x-python",
   "name": "python",
   "nbconvert_exporter": "python",
   "pygments_lexer": "ipython3",
   "version": "3.8.8"
  }
 },
 "nbformat": 4,
 "nbformat_minor": 5
}
