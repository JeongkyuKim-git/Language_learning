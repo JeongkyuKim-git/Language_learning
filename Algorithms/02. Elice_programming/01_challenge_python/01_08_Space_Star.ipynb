{
 "cells": [
  {
   "cell_type": "code",
   "execution_count": 48,
   "id": "311d4c52",
   "metadata": {},
   "outputs": [
    {
     "name": "stdout",
     "output_type": "stream",
     "text": [
      "6\n",
      "*------*------*\n",
      "-----*-----*\n"
     ]
    }
   ],
   "source": [
    "i = int(input())\n",
    "print('*'+('-'*i) +'*' + ('-'*i) +'*', end=\"\")\n",
    "print(\"\")\n",
    "if i % 2==0:\n",
    "    print('-' * (i-1) + '*' + '-' * (i-1) + '*')\n",
    "else:\n",
    "    print('-'*i + '*' + ('-'*i) + '*')"
   ]
  },
  {
   "cell_type": "code",
   "execution_count": 33,
   "id": "7b8121a5",
   "metadata": {},
   "outputs": [
    {
     "name": "stdout",
     "output_type": "stream",
     "text": [
      "  *\n",
      " * *\n",
      "* * *\n"
     ]
    }
   ],
   "source": [
    "# n = int(input())\n",
    "n = 3\n",
    "for i in range(1,n+1):\n",
    "     print(\" \" * (n-i) + \"* \" * (i-1) + \"*\")"
   ]
  },
  {
   "cell_type": "code",
   "execution_count": null,
   "id": "ef5e40ec",
   "metadata": {},
   "outputs": [],
   "source": [
    "*      *      *\n",
    "    *     *  "
   ]
  }
 ],
 "metadata": {
  "kernelspec": {
   "display_name": "Python 3 (ipykernel)",
   "language": "python",
   "name": "python3"
  },
  "language_info": {
   "codemirror_mode": {
    "name": "ipython",
    "version": 3
   },
   "file_extension": ".py",
   "mimetype": "text/x-python",
   "name": "python",
   "nbconvert_exporter": "python",
   "pygments_lexer": "ipython3",
   "version": "3.8.8"
  }
 },
 "nbformat": 4,
 "nbformat_minor": 5
}
