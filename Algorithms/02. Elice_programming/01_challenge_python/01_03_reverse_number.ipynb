{
 "cells": [
  {
   "cell_type": "markdown",
   "id": "da9eb5f2",
   "metadata": {},
   "source": [
    "# 거꾸로 숫자 세기\n",
    "- 로켓 발사를 위해 거꾸로 숫자를 세는 코드를 작성해 보세요.\n",
    "\n",
    "- count는 10부터 시작하세요.\n",
    "\n",
    "- 일단 count를 출력하세요.\n",
    "\n",
    "- count를 1만큼 감소시키세요.\n",
    "\n",
    "- 2번과 3번을 10번 반복하세요.\n",
    "\n",
    "<br>\n",
    "\n",
    "``` python\n",
    "count = 10\n",
    "\n",
    "```\n",
    "\n",
    "### 문제 설명\n",
    "count와 for문을 활용하여 10부터 1까지 거꾸로 숫자를 세야합니다."
   ]
  },
  {
   "cell_type": "code",
   "execution_count": 1,
   "id": "7ed8b111",
   "metadata": {
    "scrolled": true
   },
   "outputs": [
    {
     "name": "stdout",
     "output_type": "stream",
     "text": [
      "10\n",
      "9\n",
      "8\n",
      "7\n",
      "6\n",
      "5\n",
      "4\n",
      "3\n",
      "2\n",
      "1\n"
     ]
    }
   ],
   "source": [
    "count = 10\n",
    "\n",
    "# for i in range(count,0,-1):\n",
    "#     print(i)\n",
    "    \n",
    "for i in reversed(range(count)):\n",
    "    print(i+1)"
   ]
  },
  {
   "cell_type": "code",
   "execution_count": 3,
   "id": "a1014f5f",
   "metadata": {},
   "outputs": [
    {
     "name": "stdout",
     "output_type": "stream",
     "text": [
      "10\n",
      "9\n",
      "8\n",
      "7\n",
      "6\n",
      "5\n",
      "4\n",
      "3\n",
      "2\n",
      "1\n"
     ]
    }
   ],
   "source": [
    "count = 10\n",
    "\n",
    "for i in range(count,0,-1):\n",
    "    print(i)"
   ]
  }
 ],
 "metadata": {
  "kernelspec": {
   "display_name": "Python 3 (ipykernel)",
   "language": "python",
   "name": "python3"
  },
  "language_info": {
   "codemirror_mode": {
    "name": "ipython",
    "version": 3
   },
   "file_extension": ".py",
   "mimetype": "text/x-python",
   "name": "python",
   "nbconvert_exporter": "python",
   "pygments_lexer": "ipython3",
   "version": "3.8.8"
  }
 },
 "nbformat": 4,
 "nbformat_minor": 5
}
