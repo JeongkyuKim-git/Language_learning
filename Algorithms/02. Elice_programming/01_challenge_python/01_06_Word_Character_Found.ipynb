{
 "cells": [
  {
   "cell_type": "markdown",
   "id": "720bad68",
   "metadata": {},
   "source": [
    "# 개구리 왕자 이름 찾기\n",
    "- “혹시 여기에 개구리 왕자님이 계신가요?”\n",
    "\n",
    "- 엘리스는 수많은 개구리 중 이름이 F로 시작하는 개구리 왕자를 찾으려고 합니다.\n",
    "\n",
    "- (단, 개구리들은 개성이 넘쳐서 이름과 시작하는 알파벳이 다릅니다.)\n",
    "\n",
    "- 문자열이 여러 개 담긴 리스트 frogList가 매개변수로 주어졌을 때, 문자열이 ‘F’로 시작하면 그 이름을 return 하도록 isPrince() 함수를 작성해주세요!\n",
    "\n",
    "```python\n",
    "def isPrince(frogList):\n",
    "    # 여기에 코드를 작성해 주세요!\n",
    "    \n",
    "\n",
    "print(isPrince(['Alice', 'Bob', 'Frog']))\n",
    "```\n",
    "\n",
    "### 문제 설명\n",
    "- frogList에 담긴 문자열 중 ‘F’로 시작하는 값을 return 하는 isPrince 함수를 동작하도록 작성하기"
   ]
  },
  {
   "cell_type": "markdown",
   "id": "9f45bc61",
   "metadata": {},
   "source": [
    "* * *\n",
    "#### 예를들어 이렇게 함수를 호출하면\n",
    "isPrince(['Alice', 'Bob', 'Frog'])"
   ]
  },
  {
   "cell_type": "markdown",
   "id": "91f29a9c",
   "metadata": {},
   "source": [
    "#### 이렇게 반환합니다.\n",
    "Frog\n",
    "* * *"
   ]
  },
  {
   "cell_type": "markdown",
   "id": "663d4ef9",
   "metadata": {},
   "source": [
    "### 처음 수정한 코드"
   ]
  },
  {
   "cell_type": "code",
   "execution_count": 26,
   "id": "ca3e2c4c",
   "metadata": {},
   "outputs": [
    {
     "name": "stdout",
     "output_type": "stream",
     "text": [
      "Frog\n",
      "Frog\n"
     ]
    }
   ],
   "source": [
    "def isPrince(frogList):\n",
    "    \n",
    "    n = len(frogList)\n",
    "    for i in range(n):\n",
    "        if \"F\" in frogList[i]:\n",
    "            result = frogList[i]\n",
    "    print(result)\n",
    "    return result\n",
    "#     for i in range(n):\n",
    "#         print(frogList[i].index('F',0))\n",
    "    \n",
    "#     for i in range(len(frogList)):\n",
    "#         if frogList[i] == frogList[i].index('F',0):\n",
    "#             result = i\n",
    "#             call = forgList[result]\n",
    "#     return call\n",
    "#     # 여기에 코드를 작성해 주세요!\n",
    "\n",
    "print(isPrince(['Alice', 'Bob', 'Frog']))"
   ]
  },
  {
   "cell_type": "markdown",
   "id": "85fafe05",
   "metadata": {},
   "source": [
    "### 최종 코드"
   ]
  },
  {
   "cell_type": "code",
   "execution_count": 27,
   "id": "7700971f",
   "metadata": {},
   "outputs": [
    {
     "name": "stdout",
     "output_type": "stream",
     "text": [
      "Frog\n"
     ]
    }
   ],
   "source": [
    "def isPrince(frogList):\n",
    "    \n",
    "    n = len(frogList)\n",
    "    for i in range(n):\n",
    "        if \"F\" in frogList[i]:\n",
    "            result = frogList[i]\n",
    "    return result\n",
    "\n",
    "print(isPrince(['Alice', 'Bob', 'Frog']))"
   ]
  },
  {
   "cell_type": "code",
   "execution_count": null,
   "id": "2aaa01b3",
   "metadata": {},
   "outputs": [],
   "source": []
  }
 ],
 "metadata": {
  "kernelspec": {
   "display_name": "Python 3 (ipykernel)",
   "language": "python",
   "name": "python3"
  },
  "language_info": {
   "codemirror_mode": {
    "name": "ipython",
    "version": 3
   },
   "file_extension": ".py",
   "mimetype": "text/x-python",
   "name": "python",
   "nbconvert_exporter": "python",
   "pygments_lexer": "ipython3",
   "version": "3.8.8"
  }
 },
 "nbformat": 4,
 "nbformat_minor": 5
}
