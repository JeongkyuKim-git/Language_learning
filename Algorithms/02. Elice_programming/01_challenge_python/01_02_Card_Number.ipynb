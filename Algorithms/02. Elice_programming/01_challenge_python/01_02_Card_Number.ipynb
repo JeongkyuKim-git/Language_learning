{
 "cells": [
  {
   "cell_type": "markdown",
   "id": "027a2ef0",
   "metadata": {},
   "source": [
    "# 카드병정의 장미 세기\n",
    "\n",
    "- 카드 병정들은 여왕의 명령에 따라 장미 숫자를 세기 시작했습니다.\n",
    "\n",
    "- “흰 장미 한개… 두개… 빨간 장미 한개…”\n",
    "\n",
    "- 사칙연산을 이용해 장미의 숫자를 세볼까요? +, -, *, /를 이용해 아래와 같은 값이 나오도록 빨간장미 x와 흰장미 y를 구해보세요.\n",
    "<br>\n",
    "\n",
    "```python\n",
    "# ?를 채워주세요\n",
    "x = ?\n",
    "y = ?\n",
    "\n",
    "# 빈 곳도 채워주세요!\n",
    "# 더하기 연산\n",
    "my_sum = \n",
    "print('my_sum :', my_sum)\n",
    "\n",
    "# 빼기 연산\n",
    "my_sub = \n",
    "print('my_sub :', my_sub)\n",
    "\n",
    "# 곱하기 연산\n",
    "my_mul = \n",
    "print('my_mul :', my_mul)\n",
    "\n",
    "# 나누기 연산\n",
    "my_div = \n",
    "print('my_div :', my_div)\n",
    "```\n",
    "\n",
    "### 문제설명\n",
    "- print() 그리고 사칙연산을 이용해 아래 “결과”와 같은 출력이 되도록 2, 3번째 줄에 있는 x, y값을 결정해주세요.’"
   ]
  },
  {
   "cell_type": "code",
   "execution_count": 2,
   "id": "2d7b7cf1",
   "metadata": {},
   "outputs": [
    {
     "name": "stdout",
     "output_type": "stream",
     "text": [
      "my_sum : 9\n",
      "my_sub : 3\n",
      "my_mul : 18\n",
      "my_div : 2.0\n"
     ]
    }
   ],
   "source": [
    "# ?를 채워주세요\n",
    "x = 6\n",
    "y = 3\n",
    "\n",
    "# 빈 곳도 채워주세요!\n",
    "# 더하기 연산\n",
    "my_sum = x + y\n",
    "print('my_sum :', my_sum)\n",
    "\n",
    "# 빼기 연산\n",
    "my_sub = x - y\n",
    "print('my_sub :', my_sub)\n",
    "\n",
    "# 곱하기 연산\n",
    "my_mul = x * y\n",
    "print('my_mul :', my_mul)\n",
    "\n",
    "# 나누기 연산\n",
    "my_div = x / y\n",
    "print('my_div :', my_div)"
   ]
  },
  {
   "cell_type": "code",
   "execution_count": null,
   "id": "0d63dcdb",
   "metadata": {},
   "outputs": [],
   "source": []
  }
 ],
 "metadata": {
  "kernelspec": {
   "display_name": "Python 3 (ipykernel)",
   "language": "python",
   "name": "python3"
  },
  "language_info": {
   "codemirror_mode": {
    "name": "ipython",
    "version": 3
   },
   "file_extension": ".py",
   "mimetype": "text/x-python",
   "name": "python",
   "nbconvert_exporter": "python",
   "pygments_lexer": "ipython3",
   "version": "3.8.8"
  }
 },
 "nbformat": 4,
 "nbformat_minor": 5
}
