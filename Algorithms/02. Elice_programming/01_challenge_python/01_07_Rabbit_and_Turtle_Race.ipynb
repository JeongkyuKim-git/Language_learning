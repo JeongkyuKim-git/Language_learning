{
 "cells": [
  {
   "cell_type": "markdown",
   "id": "43d070e6",
   "metadata": {},
   "source": [
    "# 토끼와 거북이의 달리기 경주\n",
    "- 토끼와 거북이가 달리기 경주를 시작했습니다.\n",
    "\n",
    "- 토끼는 N분에 한번 휴식을 하고 거북이는 M분에 한번 휴식을 한다고 합니다.\n",
    "\n",
    "- 토끼와 거북이가 처음으로 같은 타이밍에 쉬는 시간은 언제일까요?\n",
    "\n",
    "\n",
    "### 문제 설명\n",
    "- 토끼의 휴식시간 N과 거북이의 휴식시간 M이 인자로 주어졌을때, 토끼와 거북이가 동시에 휴식하는 최초의 시간을 출력하는 프로그램을 작성해봅시다."
   ]
  },
  {
   "cell_type": "markdown",
   "id": "b6fac98e",
   "metadata": {},
   "source": [
    "* * *\n",
    "### 예를들어 다음 입력이 주어지면\n",
    "3 5"
   ]
  },
  {
   "cell_type": "markdown",
   "id": "c29a2661",
   "metadata": {},
   "source": [
    "### 이렇게 출력됩니다.\n",
    "15\n",
    "* * *"
   ]
  },
  {
   "cell_type": "markdown",
   "id": "3ff1ab89",
   "metadata": {},
   "source": [
    "### 처음 수정한 코드"
   ]
  },
  {
   "cell_type": "code",
   "execution_count": 1,
   "id": "bc90f922",
   "metadata": {},
   "outputs": [
    {
     "name": "stdout",
     "output_type": "stream",
     "text": [
      "15\n"
     ]
    }
   ],
   "source": [
    "# rabbit, turtle = input().split(',')\n",
    "rabbit = 3\n",
    "turtle = 5\n",
    "\n",
    "Min = rabbit * turtle\n",
    "print(Min)"
   ]
  },
  {
   "cell_type": "code",
   "execution_count": 89,
   "id": "375809f3",
   "metadata": {},
   "outputs": [
    {
     "name": "stdout",
     "output_type": "stream",
     "text": [
      "list_type [84]\n",
      "list_type_sort [84]\n",
      "84\n"
     ]
    }
   ],
   "source": [
    "def fildDuplicate(nums):\n",
    "    Max = max(nums)\n",
    "    rabbit = nums[0]\n",
    "    turtle = nums[1]\n",
    "#     print(rabbit)\n",
    "#     print(tuttle)\n",
    "    \n",
    "    rabbit_list = list()\n",
    "    turtle_list = list()\n",
    "    \n",
    "    for i in range(1,Max+1):\n",
    "        rabbit_list.append(rabbit*i)\n",
    "        turtle_list.append(turtle*i)\n",
    "        i += 1\n",
    "#         print(rabbit_list)\n",
    "#         print(tuttle_list)\n",
    "    duplicate = set(rabbit_list) & set(turtle_list)\n",
    "    list_type = list(duplicate)\n",
    "    print(\"list_type\", list_type)\n",
    "    list_type.sort()\n",
    "    print(\"list_type_sort\", list_type)\n",
    "    print(list_type[0])\n",
    "        \n",
    "fildDuplicate([12,7])"
   ]
  },
  {
   "cell_type": "markdown",
   "id": "98a801ce",
   "metadata": {},
   "source": [
    "### 최종 코드"
   ]
  },
  {
   "cell_type": "code",
   "execution_count": 88,
   "id": "40ec3ffb",
   "metadata": {},
   "outputs": [
    {
     "name": "stdout",
     "output_type": "stream",
     "text": [
      "3 5\n",
      "15\n"
     ]
    }
   ],
   "source": [
    "def fildDuplicate(nums):\n",
    "    Max = max(nums)\n",
    "    rabbit = nums[0]\n",
    "    turtle = nums[1]\n",
    "    \n",
    "    rabbit_list = list()\n",
    "    turtle_list = list()\n",
    "    \n",
    "    for i in range(1,Max+1):\n",
    "        rabbit_list.append(rabbit*i)\n",
    "        turtle_list.append(turtle*i)\n",
    "        i += 1\n",
    "\n",
    "        duplicate = set(rabbit_list) & set(turtle_list)\n",
    "    \n",
    "    list_type = list(duplicate)\n",
    "    list_type.sort()\n",
    "    print(list_type[0])\n",
    "\n",
    "nums =list(map(int,input().split()))\n",
    "fildDuplicate(nums)"
   ]
  },
  {
   "cell_type": "code",
   "execution_count": null,
   "id": "3e2f93f8",
   "metadata": {},
   "outputs": [],
   "source": []
  }
 ],
 "metadata": {
  "kernelspec": {
   "display_name": "Python 3 (ipykernel)",
   "language": "python",
   "name": "python3"
  },
  "language_info": {
   "codemirror_mode": {
    "name": "ipython",
    "version": 3
   },
   "file_extension": ".py",
   "mimetype": "text/x-python",
   "name": "python",
   "nbconvert_exporter": "python",
   "pygments_lexer": "ipython3",
   "version": "3.8.8"
  }
 },
 "nbformat": 4,
 "nbformat_minor": 5
}
