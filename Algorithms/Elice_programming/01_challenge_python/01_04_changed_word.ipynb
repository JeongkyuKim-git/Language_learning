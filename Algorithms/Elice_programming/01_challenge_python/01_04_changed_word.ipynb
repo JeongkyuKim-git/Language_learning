{
 "cells": [
  {
   "cell_type": "markdown",
   "id": "4ea2dd3a",
   "metadata": {},
   "source": [
    "# 개굴개굴 개구리\n",
    "- ‘내가 개구리로 변해버렸다고?!’\n",
    "\n",
    "- 엘리스는 놀란 채로 외쳤습니다.\n",
    "\n",
    "- “개굴!”\n",
    "\n",
    "- 개구리가 된 엘리스는 인간의 언어를 사용할 수 없었습니다. 어떠한 말을 내뱉으려고 해도 그저 “개굴”이라는 말밖에는 나오지 않았습니다.\n",
    "<br>\n",
    "\n",
    "### 문제 설명\n",
    "- 한글로 된 임의의 길이의 문자열을 입력시 그 길이만큼 “개굴”을 출력하도록 하세요. 단, 공백은 그대로 유지되어야 하며 줄바꿈 없이 출력하세요.\n"
   ]
  },
  {
   "cell_type": "markdown",
   "id": "439918bf",
   "metadata": {},
   "source": [
    "* * *\n",
    "#### 입력 예시\n",
    "안녕나는 엘리스야"
   ]
  },
  {
   "cell_type": "markdown",
   "id": "aeb4e886",
   "metadata": {},
   "source": [
    "#### 출력 예시\n",
    "개굴개굴 개굴개굴 개굴개굴개굴개굴\n",
    "* * *"
   ]
  },
  {
   "cell_type": "code",
   "execution_count": 1,
   "id": "8bcbc25d",
   "metadata": {},
   "outputs": [
    {
     "name": "stdout",
     "output_type": "stream",
     "text": [
      "안녕나는 엘리스야\n",
      "개굴개굴개굴개굴 개굴개굴개굴개굴"
     ]
    }
   ],
   "source": [
    "x = input()\n",
    "# print(x)\n",
    "change_list = list(x)\n",
    "# print(change_list)\n",
    "\n",
    "result = []\n",
    "\n",
    "for i in change_list:\n",
    "    if i == \" \":\n",
    "        result.append(i)\n",
    "        # print(\" \",end=\" \")\n",
    "    else:\n",
    "        result.append(\"개굴\")\n",
    "        # print(\"개굴\" * i)\n",
    "        \n",
    "for i in result:\n",
    "    print(i,end=\"\")\n",
    "# print(len(x))\n",
    "# print(\"개굴\" * len(x)+1)"
   ]
  }
 ],
 "metadata": {
  "kernelspec": {
   "display_name": "Python 3 (ipykernel)",
   "language": "python",
   "name": "python3"
  },
  "language_info": {
   "codemirror_mode": {
    "name": "ipython",
    "version": 3
   },
   "file_extension": ".py",
   "mimetype": "text/x-python",
   "name": "python",
   "nbconvert_exporter": "python",
   "pygments_lexer": "ipython3",
   "version": "3.8.8"
  }
 },
 "nbformat": 4,
 "nbformat_minor": 5
}
