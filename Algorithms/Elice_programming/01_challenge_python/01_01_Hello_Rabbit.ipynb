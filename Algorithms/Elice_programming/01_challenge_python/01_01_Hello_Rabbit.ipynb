{
 "cells": [
  {
   "cell_type": "markdown",
   "id": "f2c03794",
   "metadata": {},
   "source": [
    "# 안녕 토끼!\n",
    "\n",
    "- print()를 이용해 ‘Hello Rabbit!’을 출력하세요"
   ]
  },
  {
   "cell_type": "code",
   "execution_count": 1,
   "id": "55e26544",
   "metadata": {},
   "outputs": [
    {
     "name": "stdout",
     "output_type": "stream",
     "text": [
      "Hello Rabbit!\n"
     ]
    }
   ],
   "source": [
    "print(\"Hello Rabbit!\")"
   ]
  },
  {
   "cell_type": "code",
   "execution_count": null,
   "id": "0e871f05",
   "metadata": {},
   "outputs": [],
   "source": []
  }
 ],
 "metadata": {
  "kernelspec": {
   "display_name": "Python 3 (ipykernel)",
   "language": "python",
   "name": "python3"
  },
  "language_info": {
   "codemirror_mode": {
    "name": "ipython",
    "version": 3
   },
   "file_extension": ".py",
   "mimetype": "text/x-python",
   "name": "python",
   "nbconvert_exporter": "python",
   "pygments_lexer": "ipython3",
   "version": "3.8.8"
  }
 },
 "nbformat": 4,
 "nbformat_minor": 5
}
