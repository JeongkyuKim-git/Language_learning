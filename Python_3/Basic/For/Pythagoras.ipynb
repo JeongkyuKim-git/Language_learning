{
 "cells": [
  {
   "cell_type": "markdown",
   "metadata": {},
   "source": [
    "# 피타고라스 삼조\n",
    "- '피타고라스 정리'라고 들어 보셨나요? 직각삼각형에서, 빗변의 제곱이 두 직각변의 제곱의 합과 같다는 정리입니다.\n",
    "<br>\n",
    "\n",
    "- 거기서 나온 '피타고라스 삼조'라는 개념이 있는데요. 피타고라스 삼조란, 피타고라스 정리(a<sup>2</sup> + b<sup>2</sup> = c<sup>2</sup>)를 만족하는 세 자연수 쌍 (a, b, c)입니다.\n",
    "<br>\n",
    "\n",
    "- 예를 들어, 3<sup>2</sup> + 4<sup>2</sup> = 5<sup>2</sup>이기 때문에 (3, 4, 5)는 피타고라스 삼조입니다.\n",
    "<br>\n",
    "\n",
    "- a < b < c라고 가정할 때, a + b + c = 1000을 만족하는 피타고라스 삼조 (a, b, c)는 단 하나인데요. 이 경우, a * b * c는 얼마인가요?"
   ]
  },
  {
   "cell_type": "markdown",
   "metadata": {},
   "source": [
    "### 출력문\n",
    "``` python\n",
    "31875000\n",
    "```\n",
    "\n",
    "### 비효율적인 답안\n",
    "- count는 반복문에서의 실행된 횟수"
   ]
  },
  {
   "cell_type": "code",
   "execution_count": 36,
   "metadata": {},
   "outputs": [
    {
     "name": "stdout",
     "output_type": "stream",
     "text": [
      "반복문에서의 실행된 횟수:  31650000\n"
     ]
    }
   ],
   "source": [
    "count = 0\n",
    "for a in range(1, 1000):\n",
    "    for b in range(1, 1000):\n",
    "        for c in range(1, 1000):\n",
    "            count +=1\n",
    "            if a * a +  b * b == c * c and a < b < c and a + b + c == 1000:\n",
    "                print(a * b * c)\n",
    "print(\"반복문에서의 실행된 횟수: \",count)                "
   ]
  },
  {
   "cell_type": "markdown",
   "metadata": {},
   "source": [
    "### 효율적인 답안\n",
    "- count는 반목문에서의 실행된 횟수"
   ]
  },
  {
   "cell_type": "code",
   "execution_count": 35,
   "metadata": {},
   "outputs": [
    {
     "name": "stdout",
     "output_type": "stream",
     "text": [
      "31875000\n",
      "반복문에서의 실행된 횟수:  75000\n"
     ]
    }
   ],
   "source": [
    "count = 0\n",
    "for a in range(1, 201):\n",
    "    for b in range(1, 376):\n",
    "        c = 1000 - a - b\n",
    "        count+=1\n",
    "        if a * a + b * b == c * c and a < b < c:\n",
    "            print(a * b * c)\n",
    "print(\"반복문에서의 실행된 횟수: \",count)"
   ]
  },
  {
   "cell_type": "code",
   "execution_count": null,
   "metadata": {},
   "outputs": [],
   "source": []
  }
 ],
 "metadata": {
  "kernelspec": {
   "display_name": "Python 3",
   "language": "python",
   "name": "python3"
  },
  "language_info": {
   "codemirror_mode": {
    "name": "ipython",
    "version": 3
   },
   "file_extension": ".py",
   "mimetype": "text/x-python",
   "name": "python",
   "nbconvert_exporter": "python",
   "pygments_lexer": "ipython3",
   "version": "3.8.5"
  }
 },
 "nbformat": 4,
 "nbformat_minor": 4
}
