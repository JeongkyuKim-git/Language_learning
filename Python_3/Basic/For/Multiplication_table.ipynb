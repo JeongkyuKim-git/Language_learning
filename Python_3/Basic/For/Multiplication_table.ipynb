{
 "cells": [
  {
   "cell_type": "markdown",
   "metadata": {},
   "source": [
    "# 구구단\n",
    "- 구구단 프로그램을 while문이 아닌 for문을 사용해서 만들어 보세요\n",
    "- 코드를 실행하면, 아래와 같이 출력되어야 합니다.\n",
    "``` python\n",
    "1 * 1 = 1\n",
    "1 * 2 = 2\n",
    "1 * 3 = 3\n",
    ".\n",
    ".\n",
    ".\n",
    "9 * 7 = 63\n",
    "9 * 8 = 72\n",
    "9 * 9 = 81\n",
    "```"
   ]
  },
  {
   "cell_type": "code",
   "execution_count": null,
   "metadata": {},
   "outputs": [],
   "source": [
    "# range ()\n",
    "for i in range(1,10,1):\n",
    "    for j in range(1,10,1):\n",
    "        print(f\"{i} * {j} = {i*j}\")"
   ]
  }
 ],
 "metadata": {
  "kernelspec": {
   "display_name": "Python 3",
   "language": "python",
   "name": "python3"
  },
  "language_info": {
   "codemirror_mode": {
    "name": "ipython",
    "version": 3
   },
   "file_extension": ".py",
   "mimetype": "text/x-python",
   "name": "python",
   "nbconvert_exporter": "python",
   "pygments_lexer": "ipython3",
   "version": "3.8.5"
  }
 },
 "nbformat": 4,
 "nbformat_minor": 4
}
