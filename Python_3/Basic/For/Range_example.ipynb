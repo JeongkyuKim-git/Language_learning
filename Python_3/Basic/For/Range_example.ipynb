{
 "cells": [
  {
   "cell_type": "markdown",
   "metadata": {},
   "source": [
    "# Range 연습\n",
    "- numbers라는 리스트가 주어졌습니다.\n",
    "- for문과 range 함수를 사용하여, numbers의 인덱스와 원소를 출력해 보세요."
   ]
  },
  {
   "cell_type": "markdown",
   "metadata": {},
   "source": [
    "> numbers = [2, 3, 5, 7, 11, 13, 17, 19, 23, 29, 31]  \n",
    "> \\# 인덱스와 원소 출력"
   ]
  },
  {
   "cell_type": "markdown",
   "metadata": {},
   "source": [
    "### 출력문\n",
    "``` python\n",
    "0 2\n",
    "1 3\n",
    "2 5\n",
    "3 7\n",
    "4 11\n",
    "5 13\n",
    "6 17\n",
    "7 19\n",
    "8 23\n",
    "9 29\n",
    "10 31\n",
    "```"
   ]
  },
  {
   "cell_type": "code",
   "execution_count": 5,
   "metadata": {},
   "outputs": [
    {
     "name": "stdout",
     "output_type": "stream",
     "text": [
      "0 2\n",
      "1 3\n",
      "2 5\n",
      "3 7\n",
      "4 11\n",
      "5 13\n",
      "6 17\n",
      "7 19\n",
      "8 23\n",
      "9 29\n",
      "10 31\n"
     ]
    }
   ],
   "source": [
    "numbers = [2, 3, 5, 7, 11, 13, 17, 19, 23, 29, 31]\n",
    "for i in range(len(numbers)):\n",
    "    print(i, numbers[i])"
   ]
  }
 ],
 "metadata": {
  "kernelspec": {
   "display_name": "Python 3",
   "language": "python",
   "name": "python3"
  },
  "language_info": {
   "codemirror_mode": {
    "name": "ipython",
    "version": 3
   },
   "file_extension": ".py",
   "mimetype": "text/x-python",
   "name": "python",
   "nbconvert_exporter": "python",
   "pygments_lexer": "ipython3",
   "version": "3.8.5"
  }
 },
 "nbformat": 4,
 "nbformat_minor": 4
}
