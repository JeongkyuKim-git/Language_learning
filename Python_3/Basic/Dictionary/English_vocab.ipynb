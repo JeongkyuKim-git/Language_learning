{
 "cells": [
  {
   "cell_type": "markdown",
   "metadata": {},
   "source": [
    "# 영어 단어장\n",
    "- 태호는 미국 다트머스 대학교 컴퓨터 과학과에 지원하려고 합니다. 컴퓨터 과학 전공으로 미국 유학을 가고 싶기 때문에, 코딩 공부와 영어 공부를 모두 해야 하는 상황인데요. 그 둘을 동시에 하기 위해서 파이썬으로 단어장 프로그램을 만들기로 합니다.  \n",
    "</br>\n",
    "\n",
    "### 해야 할 일\n",
    "<ol>\n",
    "    <li>단어장 만들기</li>\n",
    "    <li>새로운 단어들 추가</li>\n",
    "</ol>\n",
    "\n",
    "#### 1. 단어장 만들기\n",
    "- 잘 모르는 단어 네 개입니다.\n",
    "\n",
    "<ul>\n",
    "    <li>sanitizer: 살균제</li>\n",
    "    <li>ambition: 야망</li>\n",
    "    <li>conscience: 양심</li>\n",
    "    <li>civilization: 문명</li>\n",
    "</ul>\n",
    "\n",
    "- 이 단어들을 저장하는 사전을 만들고, 만든 사전을 vocab라는 변수에 저장하세요. 단어와 뜻이 key-value로 들어가야 합니다.\n",
    "\n",
    "#### 2. 새로운 단어들 추가\n",
    "- 이미 만들어진 vocab 사전에 새로운 단어들을 추가하고 싶습니다. 아래 단어들을 추가해 주세요.\n",
    "\n",
    "<ul>\n",
    "    <li>privilege: 특권</li>\n",
    "    <li>principle: 원칙</li>\n",
    "</ul>\n",
    "\n",
    "### 실행결과\n",
    "```python\n",
    "{'sanitizer': '살균제', 'ambition': '야망', 'conscience': '양심', 'civilization': '문명'}\n",
    "{'sanitizer': '살균제', 'ambition': '야망', 'conscience': '양심', 'civilization': '문명', 'privilege': '특권', 'principle': '원칙'}\n",
    "```"
   ]
  },
  {
   "cell_type": "code",
   "execution_count": 1,
   "metadata": {},
   "outputs": [
    {
     "name": "stdout",
     "output_type": "stream",
     "text": [
      "{'sanitizer': '살균제', 'ambition': '야망', 'conscience': '양심', 'civilization': '문명'}\n",
      "{'sanitizer': '살균제', 'ambition': '야망', 'conscience': '양심', 'civilization': '문명', 'privilege': '특권', 'principle': '원칙'}\n"
     ]
    }
   ],
   "source": [
    "# 1. 단어장 만들기\n",
    "vocab = {\n",
    "    # 코드를 입력하세요.\n",
    "    \"sanitizer\": \"살균제\",\n",
    "    \"ambition\": \"야망\",\n",
    "    \"conscience\": \"양심\",\n",
    "    \"civilization\": \"문명\"\n",
    "}\n",
    "print(vocab)\n",
    "\n",
    "# 2. 새로운 단어들 추가\n",
    "vocab[\"privilege\"] = \"특권\"\n",
    "vocab[\"principle\"] = \"원칙\"\n",
    "\n",
    "print(vocab)"
   ]
  },
  {
   "cell_type": "code",
   "execution_count": null,
   "metadata": {},
   "outputs": [],
   "source": []
  }
 ],
 "metadata": {
  "kernelspec": {
   "display_name": "Python 3",
   "language": "python",
   "name": "python3"
  },
  "language_info": {
   "codemirror_mode": {
    "name": "ipython",
    "version": 3
   },
   "file_extension": ".py",
   "mimetype": "text/x-python",
   "name": "python",
   "nbconvert_exporter": "python",
   "pygments_lexer": "ipython3",
   "version": "3.8.5"
  }
 },
 "nbformat": 4,
 "nbformat_minor": 4
}
