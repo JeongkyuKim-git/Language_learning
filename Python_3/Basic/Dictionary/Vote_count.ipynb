{
 "cells": [
  {
   "cell_type": "markdown",
   "metadata": {},
   "source": [
    "# 투표 집계하기\n",
    "- 효신이는 매년 국회의원 선거 때마다, 성북구에서 집계 도우미 봉사를 하는데요. 작년까지는 표를 손수 세다가, 올해부터는 IT 시대에 더 적합한 솔루션을 개발하려고 합니다.\n",
    "<br>\n",
    "\n",
    "- 파이썬 리스트 votes에는 성북구민들의 투표 결과가 저장되어 있습니다. 리스트 votes의 정보를 토대로, 사전 vote_counter에 후보별 득표수를 정리하는 것이 목표입니다.\n",
    "<br>\n",
    "\n",
    "- 예를 들어서 votes가 ['허유나', '서혜선', '허유나']라고 가정하면, vote_counter는 {'허유나': 2, '서혜선': 1}이 되어야 하는 거죠."
   ]
  },
  {
   "cell_type": "code",
   "execution_count": 1,
   "metadata": {},
   "outputs": [
    {
     "name": "stdout",
     "output_type": "stream",
     "text": [
      "{'김영자': 11, '강승기': 6, '최만수': 8}\n"
     ]
    }
   ],
   "source": [
    "# 투표 결과 리스트\n",
    "votes = ['김영자', '강승기', '최만수', '김영자', '강승기', '강승기', '최만수', '김영자', \\\n",
    "'최만수', '김영자', '최만수', '김영자', '김영자', '최만수', '최만수', '최만수', '강승기', \\\n",
    "'강승기', '김영자', '김영자', '최만수', '김영자', '김영자', '강승기', '김영자']\n",
    "\n",
    "# 후보별 득표수 사전\n",
    "vote_counter = {}\n",
    "\n",
    "# 리스트 votes를 이용해서 사전 vote_counter를 정리하기\n",
    "for name in votes:\n",
    "    if name not in vote_counter:\n",
    "        vote_counter[name] = 1\n",
    "    else:\n",
    "        vote_counter[name] += 1\n",
    "\"\"\"\n",
    "코드 설명: for(반복문)의 첫번째 name은 '김영자'가 들어간다.\n",
    "vote_counter[name]에 존재하지 않았으니 = 1 이라는 value가 들어간다.\n",
    "1. 김영자 2. 강승기 3. 최만수 까지 들어가고 4번째에 김영자는 존재하니\n",
    "else로 빠지게되면 +1이 증가하여 value는 2가 된다.\n",
    "\n",
    "\"\"\"\n",
    "\n",
    "# 후보별 득표수 출력\n",
    "print(vote_counter)"
   ]
  }
 ],
 "metadata": {
  "kernelspec": {
   "display_name": "Python 3",
   "language": "python",
   "name": "python3"
  },
  "language_info": {
   "codemirror_mode": {
    "name": "ipython",
    "version": 3
   },
   "file_extension": ".py",
   "mimetype": "text/x-python",
   "name": "python",
   "nbconvert_exporter": "python",
   "pygments_lexer": "ipython3",
   "version": "3.8.5"
  }
 },
 "nbformat": 4,
 "nbformat_minor": 4
}
