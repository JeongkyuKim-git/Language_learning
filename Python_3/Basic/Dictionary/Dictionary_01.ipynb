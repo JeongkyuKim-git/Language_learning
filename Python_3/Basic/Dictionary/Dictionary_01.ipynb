{
 "cells": [
  {
   "cell_type": "markdown",
   "metadata": {},
   "source": [
    "# 사전 (Dictuonary)\n",
    "- key-value pair (키-값 쌍)\n",
    "\n",
    "```python\n",
    "my_dictionary = {}\n",
    "```\n",
    "### 키 정수형인 경우"
   ]
  },
  {
   "cell_type": "code",
   "execution_count": 4,
   "metadata": {},
   "outputs": [
    {
     "name": "stdout",
     "output_type": "stream",
     "text": [
      "25\n",
      "{5: 25, 2: 4, 3: 9, 9: 81}\n"
     ]
    }
   ],
   "source": [
    "my_dictionary = {\n",
    "    5: 25,\n",
    "    2: 4,\n",
    "    3: 9\n",
    "}\n",
    "print(my_dictionary[5])\n",
    "my_dictionary[9] = 81\n",
    "print(my_dictionary)"
   ]
  },
  {
   "cell_type": "markdown",
   "metadata": {},
   "source": [
    "### 키 문자형인 경우"
   ]
  },
  {
   "cell_type": "code",
   "execution_count": 6,
   "metadata": {},
   "outputs": [
    {
     "name": "stdout",
     "output_type": "stream",
     "text": [
      "선생님\n",
      "{'홍길동': '선생님', '아무개': '학생', '일이삼': '학생', '기본기': '학생'}\n"
     ]
    }
   ],
   "source": [
    "my_schools = {\n",
    "    \"홍길동\": \"선생님\",\n",
    "    \"아무개\": \"학생\",\n",
    "    \"일이삼\": \"학생\"\n",
    "}\n",
    "print(my_schools[\"홍길동\"])\n",
    "my_schools[\"기본기\"] = \"학생\"\n",
    "print(my_schools)"
   ]
  }
 ],
 "metadata": {
  "kernelspec": {
   "display_name": "Python 3",
   "language": "python",
   "name": "python3"
  },
  "language_info": {
   "codemirror_mode": {
    "name": "ipython",
    "version": 3
   },
   "file_extension": ".py",
   "mimetype": "text/x-python",
   "name": "python",
   "nbconvert_exporter": "python",
   "pygments_lexer": "ipython3",
   "version": "3.8.5"
  }
 },
 "nbformat": 4,
 "nbformat_minor": 4
}
