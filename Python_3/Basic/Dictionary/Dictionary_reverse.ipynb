{
 "cells": [
  {
   "cell_type": "markdown",
   "metadata": {},
   "source": [
    "# 사전\n",
    "- 태호는 영어 단어 공부를 위해서 단어장 프로그램을 만들었습니다. 하지만 이번에는 영-한으로 공부하는 것이 아니라, 한-영으로 공부를 해 보고 싶습니다.\n",
    "<br>\n",
    "\n",
    "- 사전의 key와 value를 뒤집어 주는 함수 reverse_dict를 작성해 주세요. reverse_dict는 파라미터로 사전 dict를 받고, key와 value가 뒤집힌 새로운 사전을 리턴합니다."
   ]
  },
  {
   "cell_type": "markdown",
   "metadata": {},
   "source": [
    "영-한 단어장\n",
    "<br>\n",
    "```python\n",
    "vocab = {\n",
    "    'sanitizer': '살균제',\n",
    "    'ambition': '야망',\n",
    "    'conscience': '양심',\n",
    "    'civilization': '문명',\n",
    "    'privilege': '특권',\n",
    "    'principles': '원칙'\n",
    "}\n",
    "```"
   ]
  },
  {
   "cell_type": "markdown",
   "metadata": {},
   "source": [
    "한-영 단어장\n",
    "<br>\n",
    "\n",
    "{?}"
   ]
  },
  {
   "cell_type": "markdown",
   "metadata": {},
   "source": [
    "### 출력문\n",
    "```python\n",
    "영-한 단어장\n",
    "{'sanitizer': '살균제', 'ambition': '야망', 'conscience': '양심', 'civilization': '문명', 'privilege': '특권', 'principles': '원칙'}\n",
    "\n",
    "한-영 단어장\n",
    "{'살균제': 'sanitizer', '야망': 'ambition', '양심': 'conscience', '문명': 'civilization', '특권': 'privilege', '원칙': 'principles'}\n",
    "```\n",
    "\n",
    "### 실행문"
   ]
  },
  {
   "cell_type": "code",
   "execution_count": 3,
   "metadata": {},
   "outputs": [
    {
     "name": "stdout",
     "output_type": "stream",
     "text": [
      "영-한 단어장\n",
      "{'sanitizer': '살균제', 'ambition': '야망', 'conscience': '양심', 'civilization': '문명', 'privilege': '특권', 'principles': '원칙'}\n",
      "\n",
      "한-영 단어장\n",
      "{'살균제': 'sanitizer', '야망': 'ambition', '양심': 'conscience', '문명': 'civilization', '특권': 'privilege', '원칙': 'principles'}\n"
     ]
    }
   ],
   "source": [
    "# 언어 사전의 단어와 뜻을 서로 바꿔주는 함수\n",
    "def reverse_dict(dict):\n",
    "    new_dict = {}  # 새로운 사전\n",
    "    \n",
    "    for key, value in dict.items():\n",
    "        new_dict[value] = key\n",
    "    # dict의 key와 value를 뒤집어서 new_dict에 저장\n",
    "    # 코드를 입력하세요.\n",
    "    \n",
    "    return new_dict  # 변환한 새로운 사전 리턴\n",
    "\n",
    "# 영-한 단어장\n",
    "vocab = {\n",
    "    'sanitizer': '살균제',\n",
    "    'ambition': '야망',\n",
    "    'conscience': '양심',\n",
    "    'civilization': '문명',\n",
    "    'privilege': '특권',\n",
    "    'principles': '원칙'\n",
    "}\n",
    "\n",
    "# 기존 단어장 출력\n",
    "print(\"영-한 단어장\\n{}\\n\".format(vocab))\n",
    "\n",
    "# 변환된 단어장 출력\n",
    "reversed_vocab = reverse_dict(vocab)\n",
    "print(\"한-영 단어장\\n{}\".format(reversed_vocab))"
   ]
  },
  {
   "cell_type": "code",
   "execution_count": null,
   "metadata": {},
   "outputs": [],
   "source": []
  }
 ],
 "metadata": {
  "kernelspec": {
   "display_name": "Python 3",
   "language": "python",
   "name": "python3"
  },
  "language_info": {
   "codemirror_mode": {
    "name": "ipython",
    "version": 3
   },
   "file_extension": ".py",
   "mimetype": "text/x-python",
   "name": "python",
   "nbconvert_exporter": "python",
   "pygments_lexer": "ipython3",
   "version": "3.8.5"
  }
 },
 "nbformat": 4,
 "nbformat_minor": 4
}
