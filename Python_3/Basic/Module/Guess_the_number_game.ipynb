{
 "cells": [
  {
   "cell_type": "markdown",
   "metadata": {},
   "source": [
    "# 숫자 맞히기 게임\n",
    "- 1과 20 사이의 숫자를 맞히는 게임을 만들려고 합니다.\n",
    "<br>\n",
    "\n",
    "- random 모듈과 input 함수를 활용하여 프로그램을 만들어 보세요.\n",
    "<br>\n",
    "\n",
    "### 진행 방식\n",
    "\n",
    "<ol>\n",
    "    <li>프로그램을 실행하면 \"기회가 *번 남았습니다. 1-20 사이의 숫자를 맞혀 보세요: \"가 출력됩니다. 총 네 번의 기회가 주어지며, 사용자가 한 번 추측할 때마다 남은 기회 횟수가 줄어듭니다.</li>\n",
    "    <li>정답을 맞히면 \"축하합니다. *번 만에 숫자를 맞히셨습니다.\"가 출력되고 프로그램은 종료됩니다.</li>\n",
    "    <li>사용자가 입력한 수가 정답보다 작은 경우 \"Up\"이 출력되고, 입력한 수가 정답보다 큰 경우 \"Down\"이 출력됩니다.</li>\n",
    "    <li>정답이 틀렸으면 1번부터 다시 진행합니다. 만약 네 번의 기회를 모두 사용했는데도 답을 맞히지 못했으면, \"아쉽습니다. 정답은 *입니다.\"가 출력되고 프로그램은 종료됩니다.</li>\n",
    "</ol>\n",
    "\n",
    "### 시뮬레이션 #1\n",
    "> 기회가 4번 남았습니다. 1-20 사이의 숫자를 맞혀보세요: 10\n",
    "<br>\n",
    "Up\n",
    "<br>\n",
    "기회가 3번 남았습니다. 1-20 사이의 숫자를 맞혀보세요: 15\n",
    "<br>\n",
    "Up\n",
    "<br>\n",
    "기회가 2번 남았습니다. 1-20 사이의 숫자를 맞혀보세요: 17\n",
    "<br>\n",
    "축하합니다. 3번만에 숫자를 맞히셨습니다.\n",
    "<br>\n",
    "\n",
    "\n",
    "### 시뮬레이션 #2\n",
    "> 기회가 4번 남았습니다. 1-20 사이의 숫자를 맞혀보세요: 19\n",
    "<br>\n",
    "Down\n",
    "<br>\n",
    "기회가 3번 남았습니다. 1-20 사이의 숫자를 맞혀보세요: 14\n",
    "<br>\n",
    "Down\n",
    "<br>\n",
    "기회가 2번 남았습니다. 1-20 사이의 숫자를 맞혀보세요: 6\n",
    "UP\n",
    "<br>\n",
    "기회가 1번 남았습니다. 1-20 사이의 숫자를 맞혀보세요: 10\n",
    "UP\n",
    "<br>\n",
    "아쉽습니다. 정답은 12였습니다.\n",
    "<br>"
   ]
  },
  {
   "cell_type": "code",
   "execution_count": 17,
   "metadata": {},
   "outputs": [
    {
     "name": "stdout",
     "output_type": "stream",
     "text": [
      "기회가 4번 남았습니다. 1-20 사이의 숫자를 맞혀보세요:8\n",
      "UP\n",
      "기회가 3번 남았습니다. 1-20 사이의 숫자를 맞혀보세요:15\n",
      "DOWN\n",
      "기회가 2번 남았습니다. 1-20 사이의 숫자를 맞혀보세요:12\n",
      "UP\n",
      "기회가 1번 남았습니다. 1-20 사이의 숫자를 맞혀보세요:14\n",
      "DOWN\n",
      "아쉽습니다. 정답은 13였습니다.\n"
     ]
    }
   ],
   "source": [
    "import random\n",
    "# 숫자 랜덤 정하기\n",
    "correct = random.randint(1, 20)\n",
    "\n",
    "# count는 목숨\n",
    "count = 4\n",
    "checker = 0\n",
    "\n",
    "for i in range(1,6):\n",
    "    Answer =int(input(f'기회가 {count}번 남았습니다. 1-20 사이의 숫자를 맞혀보세요:'))\n",
    "    \n",
    "    if correct == Answer:\n",
    "        print(f\"축하합니다.{checker}번만에 숫자를 맞히셨습니다.\")\n",
    "        break\n",
    "    \n",
    "    elif correct > Answer: \n",
    "          print(\"UP\")\n",
    "          count-=1\n",
    "        \n",
    "    elif correct < Answer:\n",
    "          print(\"DOWN\")\n",
    "          count-=1\n",
    "    else:\n",
    "          print('올바르지 않은 값입니다.1-20 사이의 정수를 입력하세요.')\n",
    "          \n",
    "    checker += 1\n",
    "          \n",
    "    if count == 0:\n",
    "        print(f\"아쉽습니다. 정답은 {correct}였습니다.\")\n",
    "        break\n",
    "        "
   ]
  },
  {
   "cell_type": "code",
   "execution_count": 18,
   "metadata": {},
   "outputs": [
    {
     "name": "stdout",
     "output_type": "stream",
     "text": [
      "기회가 4번 남았습니다. 1-20 사이의 숫자를 맞혀보세요.1\n",
      "up\n",
      "기회가 3번 남았습니다. 1-20 사이의 숫자를 맞혀보세요.2\n",
      "up\n",
      "기회가 2번 남았습니다. 1-20 사이의 숫자를 맞혀보세요.3\n",
      "up\n",
      "기회가 1번 남았습니다. 1-20 사이의 숫자를 맞혀보세요.4\n",
      "up\n",
      "아쉽군요. 정답은 15입니다. 다시 도전하세요.\n"
     ]
    }
   ],
   "source": [
    "import random\n",
    "\n",
    "correct = random.randint(1, 20)\n",
    "cnt = 4\n",
    "\n",
    "while cnt > 0:\n",
    "    number = int(input(f'기회가 {cnt}번 남았습니다. 1-20 사이의 숫자를 맞혀보세요.'))\n",
    "    if number == correct:\n",
    "        print(f'축하합니다. {5-cnt}번 만에 숫자를 맞히셨습니다.')\n",
    "        break\n",
    "    elif number < correct and 1 <= number <=20:\n",
    "        print('up')\n",
    "        cnt -= 1\n",
    "    elif number > correct and 1 <= number <=20:\n",
    "        print('down')\n",
    "        cnt -= 1\n",
    "    else:\n",
    "        print('올바르지 않은 값입니다.1-20 사이의 정수를 입력하세요.')\n",
    "    if cnt == 0:\n",
    "        print(f'아쉽군요. 정답은 {correct}입니다. 다시 도전하세요.')\n"
   ]
  },
  {
   "cell_type": "code",
   "execution_count": null,
   "metadata": {},
   "outputs": [],
   "source": []
  }
 ],
 "metadata": {
  "kernelspec": {
   "display_name": "Python 3",
   "language": "python",
   "name": "python3"
  },
  "language_info": {
   "codemirror_mode": {
    "name": "ipython",
    "version": 3
   },
   "file_extension": ".py",
   "mimetype": "text/x-python",
   "name": "python",
   "nbconvert_exporter": "python",
   "pygments_lexer": "ipython3",
   "version": "3.8.5"
  }
 },
 "nbformat": 4,
 "nbformat_minor": 4
}
