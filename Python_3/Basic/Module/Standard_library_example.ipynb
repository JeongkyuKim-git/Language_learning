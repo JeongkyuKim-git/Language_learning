{
 "cells": [
  {
   "cell_type": "markdown",
   "metadata": {},
   "source": [
    "# Standard library (표준 라이브러리)\n",
    "- 함수의 사용"
   ]
  },
  {
   "cell_type": "code",
   "execution_count": 20,
   "metadata": {},
   "outputs": [
    {
     "name": "stdout",
     "output_type": "stream",
     "text": [
      "2.0\n",
      "1.0\n",
      "3.141592653589793\n",
      "---------\n",
      "0.6776534388818092\n",
      "kimjeongkyu\n",
      "C:\\Users\\kimjeongkyu\\Desktop\\-------- Algorithm and Python\\codeit\\Python\n"
     ]
    }
   ],
   "source": [
    "import math,random, os\n",
    "\n",
    "# matg의 함수\n",
    "print(math.log10(100))\n",
    "\n",
    "# matg의 함수\n",
    "print(math.cos(0))\n",
    "\n",
    "# 변수 \n",
    "print(math.pi)\n",
    "\n",
    "print(\"---------\")\n",
    "# 랜덤의 결과는 실행시 마다 다른 값을 넣음\n",
    "print(random.random())\n",
    "\n",
    "print(os.getlogin())\n",
    "print(os.getcwd())"
   ]
  },
  {
   "cell_type": "markdown",
   "metadata": {},
   "source": [
    "### import random\n",
    "- 스탠다드 라이브러리에 있는 random 모듈은 랜덤한 숫자를 생성하기 위한 다양한 함수들을 제공해 줍니다.\n",
    "<br>\n",
    "\n",
    "#### randint function\n",
    "- randint는 두 수 사이의 어떤 랜덤한 정수를 리턴하는 함수입니다.\n",
    "\n",
    "- randint(a, b)를 하면, a ≤ N ≤ b를 만족하는 어떤 랜덤한 정수 N을 리턴하는 것이죠.\n",
    "\n",
    "Example)"
   ]
  },
  {
   "cell_type": "code",
   "execution_count": 21,
   "metadata": {},
   "outputs": [
    {
     "name": "stdout",
     "output_type": "stream",
     "text": [
      "9\n",
      "16\n",
      "6\n",
      "13\n",
      "3\n"
     ]
    }
   ],
   "source": [
    "import random\n",
    "\n",
    "print(random.randint(1, 20))\n",
    "print(random.randint(1, 20))\n",
    "print(random.randint(1, 20))\n",
    "print(random.randint(1, 20))\n",
    "print(random.randint(1, 20))"
   ]
  },
  {
   "cell_type": "markdown",
   "metadata": {},
   "source": [
    "#### uniform function\n",
    "- uniform은 두 수 사이의 랜덤한 소수를 리턴하는 함수입니다. randint와 다른 것은 리턴하는 값이 정수가 아니라 소수라는 점입니다.\n",
    "\n",
    "- uniform(a, b)를 하면, a ≤ N ≤ b를 만족하는 어떤 랜덤한 소수 N을 리턴하는 것이죠.\n",
    "\n",
    "Example)"
   ]
  },
  {
   "cell_type": "code",
   "execution_count": 22,
   "metadata": {},
   "outputs": [
    {
     "name": "stdout",
     "output_type": "stream",
     "text": [
      "0.2834459154601847\n",
      "0.6027057888542532\n",
      "0.25479415284785467\n",
      "0.5955806371810506\n",
      "0.10133405074137602\n"
     ]
    }
   ],
   "source": [
    "import random\n",
    "\n",
    "print(random.uniform(0, 1))\n",
    "print(random.uniform(0, 1))\n",
    "print(random.uniform(0, 1))\n",
    "print(random.uniform(0, 1))\n",
    "print(random.uniform(0, 1))"
   ]
  },
  {
   "cell_type": "markdown",
   "metadata": {},
   "source": [
    "### imfort datetime \n",
    "- 스탠다드 라이브러리에 있는 datetime 모듈은 '날짜'와 '시간'을 다루기 위한 다양한 '클래스'를 갖추고 있습니다. '클래스' 개념은 아직 배우지 않았지만, 일단은 몰라도 이 모듈을 사용하는 데에는 문제 없습니다.\n",
    "<br>\n",
    "\n",
    "#### datetime 값 생성\n",
    "2020년 3월 14일을 파이썬으로 어떻게 표현할 수 있을까요? 이렇게 하면 됩니다."
   ]
  },
  {
   "cell_type": "code",
   "execution_count": 24,
   "metadata": {},
   "outputs": [
    {
     "name": "stdout",
     "output_type": "stream",
     "text": [
      "2020-03-14 00:00:00\n",
      "<class 'datetime.datetime'>\n"
     ]
    }
   ],
   "source": [
    "import datetime\n",
    "\n",
    "pi_day = datetime.datetime(2020, 3, 14)\n",
    "print(pi_day)\n",
    "print(type(pi_day))"
   ]
  },
  {
   "cell_type": "code",
   "execution_count": 25,
   "metadata": {},
   "outputs": [
    {
     "name": "stdout",
     "output_type": "stream",
     "text": [
      "2020-03-14 13:06:15\n",
      "<class 'datetime.datetime'>\n"
     ]
    }
   ],
   "source": [
    "pi_day = datetime.datetime(2020, 3, 14, 13, 6, 15)\n",
    "print(pi_day)\n",
    "print(type(pi_day))"
   ]
  },
  {
   "cell_type": "markdown",
   "metadata": {},
   "source": [
    "#### 오늘 날짜 선정\n",
    "\n",
    "- 우리가 날짜와 시간을 정해 주는 게 아니라, 코드를 실행한 '지금 이 순간'의 날짜와 시간을 받아 오고 싶다면? 이렇게 하면 됩니다."
   ]
  },
  {
   "cell_type": "code",
   "execution_count": 26,
   "metadata": {},
   "outputs": [
    {
     "name": "stdout",
     "output_type": "stream",
     "text": [
      "2021-05-20 18:50:57.725153\n",
      "<class 'datetime.datetime'>\n"
     ]
    }
   ],
   "source": [
    "today = datetime.datetime.now()\n",
    "print(today)\n",
    "print(type(today))"
   ]
  },
  {
   "cell_type": "markdown",
   "metadata": {},
   "source": [
    "#### timedelta\n",
    "- 두 datetime 값 사이의 기간을 알고 싶으면, 마치 숫자 뺄셈을 하듯이 그냥 빼면 됩니다."
   ]
  },
  {
   "cell_type": "code",
   "execution_count": 27,
   "metadata": {},
   "outputs": [
    {
     "name": "stdout",
     "output_type": "stream",
     "text": [
      "432 days, 5:45:40.582258\n",
      "<class 'datetime.timedelta'>\n"
     ]
    }
   ],
   "source": [
    "today = datetime.datetime.now()\n",
    "pi_day = datetime.datetime(2020, 3, 14, 13, 6, 15)\n",
    "print(today - pi_day)\n",
    "print(type(today - pi_day))"
   ]
  },
  {
   "cell_type": "markdown",
   "metadata": {},
   "source": [
    "- 반대로 날짜를 더하는 방법"
   ]
  },
  {
   "cell_type": "code",
   "execution_count": 28,
   "metadata": {},
   "outputs": [
    {
     "name": "stdout",
     "output_type": "stream",
     "text": [
      "2021-05-20 18:52:29.070915\n",
      "2021-05-25 22:03:19.070915\n"
     ]
    }
   ],
   "source": [
    "today = datetime.datetime.now()\n",
    "my_timedelta = datetime.timedelta(days=5, hours=3, minutes=10, seconds=50)\n",
    "\n",
    "print(today)\n",
    "print(today + my_timedelta)"
   ]
  },
  {
   "cell_type": "markdown",
   "metadata": {},
   "source": [
    "#### datetime 해부하기\n",
    "- datetime 값에서 '연도'나 '월' 같은 값들을 추출하려면 어떻게 해야 할까요?"
   ]
  },
  {
   "cell_type": "code",
   "execution_count": 29,
   "metadata": {},
   "outputs": [
    {
     "name": "stdout",
     "output_type": "stream",
     "text": [
      "2021-05-20 18:52:58.984810\n",
      "2021\n",
      "5\n",
      "20\n",
      "18\n",
      "52\n",
      "58\n",
      "984810\n"
     ]
    }
   ],
   "source": [
    "today = datetime.datetime.now()\n",
    "\n",
    "print(today)\n",
    "print(today.year)  # 연도\n",
    "print(today.month)  # 월\n",
    "print(today.day)  # 일\n",
    "print(today.hour)  # 시\n",
    "print(today.minute)  # 분\n",
    "print(today.second)  # 초\n",
    "print(today.microsecond)  # 마이크로초"
   ]
  },
  {
   "cell_type": "markdown",
   "metadata": {},
   "source": [
    "#### datetime 포맷팅\n",
    "- datetime 값을 출력하면 별로 예쁘지 않습니다. 하지만 strftime을 사용하면, 우리 입맛대로 바꿀 수 있습니다.\n",
    "\n"
   ]
  },
  {
   "cell_type": "code",
   "execution_count": 30,
   "metadata": {},
   "outputs": [
    {
     "name": "stdout",
     "output_type": "stream",
     "text": [
      "2021-05-20 18:53:42.406652\n",
      "Thursday, May 20th 2021\n"
     ]
    }
   ],
   "source": [
    "today = datetime.datetime.now()\n",
    "\n",
    "print(today)\n",
    "print(today.strftime(\"%A, %B %dth %Y\"))"
   ]
  },
  {
   "cell_type": "markdown",
   "metadata": {},
   "source": [
    "|포맷 코드|설명|예시|\n",
    "|:---:|:---:|:---:|\n",
    "|%a|\t요일 (짧은 버전)|\tMon\n",
    "|%A|\t요일 (풀 버전)|\tMonday\n",
    "|%w|\t요일 (숫자 버전, 0~6, 0이 일요일)|\t5\n",
    "|%d|\t일 (01~31)|\t23\n",
    "|%b|\t월 (짧은 버전)|\tNov\n",
    "|%B|\t월 (풀 버전)|\tNovember\n",
    "|%m|\t월 (숫자 버전, 01~12)|\t10\n",
    "|%y|\t연도 (짧은 버전)|\t16\n",
    "|%Y|\t연도 (풀 버전)|\t2016\n",
    "|%H|\t시간 (00~23)|\t14\n",
    "|%I|\t시간 (00~12)|\t10\n",
    "|%p|\tAM/PM|\tAM\n",
    "|%M|\t분 (00~59)|\t34\n",
    "|%S|\t초 (00~59)|\t12\n",
    "|%f|\t마이크로초 (000000~999999)|\t413215\n",
    "|%Z|\t표준시간대|\tPST\n",
    "|%j|\t1년 중 며칠째인지 (001~366)|\t162\n",
    "|%U|\t1년 중 몇 주째인지 (00~53, 일요일이 한 주의 시작이라고 가정)|\t35\n",
    "|%W|\t1년 중 몇 주째인지 (00~53, 월요일이 한 주의 시작이라고 가정)|\t35"
   ]
  },
  {
   "cell_type": "code",
   "execution_count": null,
   "metadata": {},
   "outputs": [],
   "source": []
  }
 ],
 "metadata": {
  "kernelspec": {
   "display_name": "Python 3",
   "language": "python",
   "name": "python3"
  },
  "language_info": {
   "codemirror_mode": {
    "name": "ipython",
    "version": 3
   },
   "file_extension": ".py",
   "mimetype": "text/x-python",
   "name": "python",
   "nbconvert_exporter": "python",
   "pygments_lexer": "ipython3",
   "version": "3.8.5"
  }
 },
 "nbformat": 4,
 "nbformat_minor": 4
}
