{
 "cells": [
  {
   "cell_type": "markdown",
   "metadata": {},
   "source": [
    "# 자릿수 합 구하기\n",
    "- 함수 sum_digit은 파라미터로 정수형 num을 받고, num의 각 자릿수를 더한 값을 리턴합니다.\n",
    "<br>\n",
    "\n",
    "- 예를 들어서 12의 각 자릿수는 1, 2이니까 sum_digit(12)는 3(1 + 2)을 리턴합니다.\n",
    "<br>\n",
    "\n",
    "- 마찬가지로 486의 각 자릿수는 4, 8, 6이니까 sum_digit(486)은 18(4 + 8 + 6)을 리턴하는 거죠.\n",
    "<br>\n",
    "\n",
    "- 여러분이 해야 할 일은 두 가지입니다.\n",
    "<br>\n",
    "\n",
    "<ol>\n",
    "    <li>sum_digit 함수를 작성한다.</li>\n",
    "    <li>sum_digit(1)부터 sum_digit(1000)합을 구해서 출력한다.</li>\n",
    "<ol>"
   ]
  },
  {
   "cell_type": "markdown",
   "metadata": {},
   "source": [
    "### 코드 if, elif, else 사용 코드"
   ]
  },
  {
   "cell_type": "code",
   "execution_count": 65,
   "metadata": {},
   "outputs": [
    {
     "name": "stdout",
     "output_type": "stream",
     "text": [
      "13501\n"
     ]
    }
   ],
   "source": [
    "def sum_digit(num):\n",
    "    units = num % 10\n",
    "    tens = int((num % 100) / 10) \n",
    "    \n",
    "    if num >= 100 and num < 1000:\n",
    "        hund = int(num / 100)\n",
    "        total = units + tens + hund\n",
    "        #print(f\"합: {total}\")\n",
    "    \n",
    "    elif num >=1000:\n",
    "        thou = int(num / 1000)\n",
    "        total = units + tens +thou\n",
    "        \n",
    "        #print(f\"합: {total}\")\n",
    "        \n",
    "    else:\n",
    "        total = units + tens\n",
    "        #print(f\"합: {total}\")\n",
    "        \n",
    "    return total\n",
    "\n",
    "total = 0\n",
    "for i in range(1,1001):\n",
    "     total += sum_digit(i)\n",
    "\n",
    "print(total)"
   ]
  },
  {
   "cell_type": "markdown",
   "metadata": {},
   "source": [
    "### 코드 문자열은 정수형으로 변경하여 더하는 방법"
   ]
  },
  {
   "cell_type": "code",
   "execution_count": 66,
   "metadata": {},
   "outputs": [
    {
     "name": "stdout",
     "output_type": "stream",
     "text": [
      "13501\n"
     ]
    }
   ],
   "source": [
    "# 자리수 합 리턴\n",
    "def sum_digit(num): #num 이라는 변수(인수)를 받아오는 \"자릿수합함수\"를 정의함.\n",
    "    total = 0 #토탈이라는 변수는 0으로 정의함.\n",
    "    str_num = str(num) #num 이라는 값은 string 자료형으로 변경해. 이름은 str_num.\n",
    "    for digit in str_num: #str_num 속 문자열 \"숫자\", 그래서 ex)23이 아니라, 2와 3인 이 '숫자'들을 순서대로 불러온다면,\n",
    "        total += int(digit) #토탈 변수 0에 숫자열로 바꾼 '숫자'를 더할거야. 그래서 2+3이 됨.\n",
    "    return total #반복이 끝나면 토탈을 리턴함.\n",
    "\n",
    "i = 0 #i는 0이야.\n",
    "range_1000 = 0 #range_1000도 0\n",
    "while i <= 1000: #i가 1000보다 작거나 같을 동안\n",
    "    range_1000 += sum_digit(i) #range_1000에 \"자릿수합함수\"값을 더함.\n",
    "    i += 1 #그 다음 i 에 1을 더함.\n",
    "\"\"\"\n",
    "for 반복문 방식\n",
    "range_1000 = 0\n",
    "for i in range(1, 1001):\n",
    "    range_1000 += sum_digit(i)\n",
    "\"\"\"\n",
    "\n",
    "print(range_1000) \n",
    "#1이면 while 가 참이므로, range_1000인 0에 sum_digit(1)의 값인 1인 더해져서 1가 됨.\n",
    "#2는 윗줄로 1이 된 range_1000에 sum_digit(2)의 값인 2를 더해서 3가 됨.\n",
    "#3은 윗줄로 3이된 range_1000에 sum_digit(3)의 값인 3를 더해서 6가 됨.\n",
    "#.... 11은 윗줄로 46이 된 range_1000에 sum_digit(11)의 값인 2를 더해서 48이 됨.\n",
    "#결국 13501이 나옴."
   ]
  }
 ],
 "metadata": {
  "kernelspec": {
   "display_name": "Python 3",
   "language": "python",
   "name": "python3"
  },
  "language_info": {
   "codemirror_mode": {
    "name": "ipython",
    "version": 3
   },
   "file_extension": ".py",
   "mimetype": "text/x-python",
   "name": "python",
   "nbconvert_exporter": "python",
   "pygments_lexer": "ipython3",
   "version": "3.8.5"
  }
 },
 "nbformat": 4,
 "nbformat_minor": 4
}
