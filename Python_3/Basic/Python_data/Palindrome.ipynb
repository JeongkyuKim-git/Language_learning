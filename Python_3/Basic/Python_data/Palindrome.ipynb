{
 "cells": [
  {
   "cell_type": "markdown",
   "metadata": {},
   "source": [
    "# 팰린드롬 \n",
    "\n",
    "- \"토마토\"나 \"기러기\"처럼 거꾸로 읽어도 똑같은 단어를 '팰린드롬(palindrome)'이라고 부릅니다.\n",
    "\n",
    "- 팰린드롬 여부를 확인하는 함수 is_palindrome을 작성하려고 하는데요. is_palindrome은 파라미터 word가 팰린드롬이면 True를 리턴하고 팰린드롬이 아니면 False를 리턴합니다.\n",
    "\n",
    "- 예를 들어서 \"racecar\"과 \"토마토\"는 거꾸로 읽어도 똑같기 때문에 True가 출력되어야 합니다. 그리고 \"hello\"는 거꾸로 읽으면 \"olleh\"가 되기 때문에 False가 나와야 하는 거죠.\n",
    "\n",
    "### 실행 결과\n",
    "``` python\n",
    "True\n",
    "False\n",
    "True\n",
    "True\n",
    "False\n",
    "```"
   ]
  },
  {
   "cell_type": "code",
   "execution_count": 41,
   "metadata": {},
   "outputs": [
    {
     "name": "stdout",
     "output_type": "stream",
     "text": [
      "True\n",
      "False\n",
      "True\n",
      "True\n",
      "False\n"
     ]
    }
   ],
   "source": [
    "def is_palindrome(word):\n",
    "    for left in range(len(word) // 2):\n",
    "        # 한 쌍이라도 일치하지 않으면 바로 False를 리턴하고 함수를 끝냄\n",
    "        right = len(word) - left - 1\n",
    "        if word[left] != word[right]:\n",
    "            return False\n",
    "\n",
    "    # for문에서 나왔다면 모든 쌍이 일치\n",
    "    return True\n",
    "\n",
    "\n",
    "# 테스트\n",
    "print(is_palindrome(\"racecar\"))\n",
    "print(is_palindrome(\"stars\"))\n",
    "print(is_palindrome(\"토마토\"))\n",
    "print(is_palindrome(\"kayak\"))\n",
    "print(is_palindrome(\"hello\"))"
   ]
  },
  {
   "cell_type": "code",
   "execution_count": null,
   "metadata": {},
   "outputs": [],
   "source": []
  }
 ],
 "metadata": {
  "kernelspec": {
   "display_name": "Python 3",
   "language": "python",
   "name": "python3"
  },
  "language_info": {
   "codemirror_mode": {
    "name": "ipython",
    "version": 3
   },
   "file_extension": ".py",
   "mimetype": "text/x-python",
   "name": "python",
   "nbconvert_exporter": "python",
   "pygments_lexer": "ipython3",
   "version": "3.8.5"
  }
 },
 "nbformat": 4,
 "nbformat_minor": 4
}
