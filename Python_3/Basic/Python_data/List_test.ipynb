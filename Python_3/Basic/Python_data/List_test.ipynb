{
 "cells": [
  {
   "cell_type": "markdown",
   "metadata": {},
   "source": [
    "# 파이썬 데이터\n",
    "<br>\n",
    "\n",
    "### Aliasing (가명)\n",
    "- Example\n",
    "```python\n",
    "x = [2,3,4,5]\n",
    "y = list[x]\n",
    "# y = x\n",
    "y[2] = 4\n",
    "\n",
    "print(x)\n",
    "print(y)\n",
    "```\n",
    "<br>\n",
    "인덱싱, 반복문, 슬라이싱, 덧셈 연산, len 함수, Mutable(수정 가능) vs Immutable (수정 불가능)"
   ]
  },
  {
   "cell_type": "markdown",
   "metadata": {},
   "source": [
    "### 리스트와 문자열"
   ]
  },
  {
   "cell_type": "code",
   "execution_count": 1,
   "metadata": {},
   "outputs": [
    {
     "name": "stdout",
     "output_type": "stream",
     "text": [
      "A\n",
      "B\n",
      "E\n",
      "J\n"
     ]
    }
   ],
   "source": [
    "# 문자열 테스트_01\n",
    "alphabet_string = 'ABCDEFGHIJ'\n",
    "\n",
    "print(alphabet_string[0])\n",
    "print(alphabet_string[1])\n",
    "print(alphabet_string[4])\n",
    "print(alphabet_string[-1])"
   ]
  },
  {
   "cell_type": "code",
   "execution_count": 2,
   "metadata": {},
   "outputs": [
    {
     "name": "stdout",
     "output_type": "stream",
     "text": [
      "ABCDE\n",
      "EFGHIJ\n",
      "ABCD\n"
     ]
    }
   ],
   "source": [
    "# 문자열 테스트_02\n",
    "alphabet_string = 'ABCDEFGHIJ'\n",
    "\n",
    "print(alphabet_string[0:5])\n",
    "print(alphabet_string[4:])\n",
    "print(alphabet_string[:4])\n",
    "\n",
    "#새로운 문자열이 생성된다."
   ]
  },
  {
   "cell_type": "code",
   "execution_count": 4,
   "metadata": {},
   "outputs": [
    {
     "name": "stdout",
     "output_type": "stream",
     "text": [
      "['A', 'B', 'C', 'D', 'E']\n",
      "['E', 'F', 'G', 'H', 'I', 'J']\n",
      "['A', 'B', 'C', 'D']\n"
     ]
    }
   ],
   "source": [
    "# 리스트 테스트_01\n",
    "alphabet_list = ['A','B','C','D','E','F','G','H','I','J']\n",
    "\n",
    "print(alphabet_list[0:5])\n",
    "print(alphabet_list[4:])\n",
    "print(alphabet_list[:4])\n",
    "\n",
    "#새로운 리스트가 생성된다."
   ]
  },
  {
   "cell_type": "markdown",
   "metadata": {},
   "source": [
    "### for 반복문\n",
    "- 두 자료형은 공통적으로 인덱싱이 가능합니다. 따라서 for 반복문에도 활용할 수 있습니다."
   ]
  },
  {
   "cell_type": "code",
   "execution_count": 11,
   "metadata": {},
   "outputs": [
    {
     "name": "stdout",
     "output_type": "stream",
     "text": [
      "A\n",
      "P\n",
      "P\n",
      "L\n",
      "E\n",
      " \n",
      "A\n",
      "P\n",
      "P\n",
      "L\n",
      "E\n"
     ]
    }
   ],
   "source": [
    "# 알파벳 리스트의 반복문\n",
    "alphabets_list = ['A', 'P', 'P', 'L', 'E']\n",
    "for alphabet in alphabets_list:\n",
    "    print(alphabet)\n",
    "    \n",
    "print(\" \")\n",
    "\n",
    "# 알파벳 문자열의 반복문\n",
    "alphabets_string = 'APPLE'\n",
    "for alphabet in alphabets_string:\n",
    "    print(alphabet)"
   ]
  },
  {
   "cell_type": "markdown",
   "metadata": {},
   "source": [
    "### 덧셈 연산\n",
    "- 두 자료형에게 모두 덧셈은 \"연결\"하는 연산입니다."
   ]
  },
  {
   "cell_type": "code",
   "execution_count": 8,
   "metadata": {},
   "outputs": [
    {
     "name": "stdout",
     "output_type": "stream",
     "text": [
      "[1, 2, 3, 4, 5, 6, 7, 8]\n",
      "12345678\n"
     ]
    }
   ],
   "source": [
    "# 리스트의 덧셈 연산\n",
    "list1 = [1, 2, 3, 4]\n",
    "list2 = [5, 6, 7, 8]\n",
    "list3 = list1 + list2\n",
    "print(list3)\n",
    "\n",
    "# 문자열의 덧셈 연산\n",
    "string1 = '1234'\n",
    "string2 = '5678'\n",
    "string3 = string1 + string2\n",
    "print(string3)"
   ]
  },
  {
   "cell_type": "markdown",
   "metadata": {},
   "source": [
    "### len 함수\n",
    "- 두 자료형은 모두 길이를 재는 len 함수를 쓸 수 있습니다."
   ]
  },
  {
   "cell_type": "code",
   "execution_count": 9,
   "metadata": {},
   "outputs": [
    {
     "name": "stdout",
     "output_type": "stream",
     "text": [
      "5\n",
      "13\n"
     ]
    }
   ],
   "source": [
    "# 리스트의 길이 재기\n",
    "print(len(['H', 'E', 'L', 'L', 'O']))\n",
    "\n",
    "# 문자열의 길이 재기\n",
    "print(len(\"Hello, world!\"))"
   ]
  },
  {
   "cell_type": "markdown",
   "metadata": {},
   "source": [
    "### Mutable(수정 가능) vs Immutable (수정 불가능)\n",
    "- 차이점이 있습니다. 리스트는 데이터를 바꿀 수 있지만, 문자열은 데이터를 바꿀 수 없다는 것입니다. 리스트와 같이 수정 가능한 자료형을 'mutable'한 자료형이라고 부르고, 문자열과 같이 수정 불가능한 자료형을 'immutable'한 자료형이라고 부릅니다. 숫자, 불린, 문자열은 모두 immutable한 자료형입니다."
   ]
  },
  {
   "cell_type": "code",
   "execution_count": 10,
   "metadata": {
    "scrolled": true
   },
   "outputs": [
    {
     "name": "stdout",
     "output_type": "stream",
     "text": [
      "[5, 2, 3, 4]\n"
     ]
    }
   ],
   "source": [
    "# 리스트 데이터 바꾸기\n",
    "numbers = [1, 2, 3, 4]\n",
    "numbers[0] = 5\n",
    "print(numbers)"
   ]
  },
  {
   "cell_type": "code",
   "execution_count": 12,
   "metadata": {
    "scrolled": true
   },
   "outputs": [
    {
     "ename": "TypeError",
     "evalue": "'str' object does not support item assignment",
     "output_type": "error",
     "traceback": [
      "\u001b[1;31m---------------------------------------------------------------------------\u001b[0m",
      "\u001b[1;31mTypeError\u001b[0m                                 Traceback (most recent call last)",
      "\u001b[1;32m<ipython-input-12-f923d7c99415>\u001b[0m in \u001b[0;36m<module>\u001b[1;34m\u001b[0m\n\u001b[0;32m      1\u001b[0m \u001b[1;31m# 문자열 데이터 바꾸기\u001b[0m\u001b[1;33m\u001b[0m\u001b[1;33m\u001b[0m\u001b[1;33m\u001b[0m\u001b[0m\n\u001b[0;32m      2\u001b[0m \u001b[0mname\u001b[0m \u001b[1;33m=\u001b[0m \u001b[1;34m\"apple\"\u001b[0m\u001b[1;33m\u001b[0m\u001b[1;33m\u001b[0m\u001b[0m\n\u001b[1;32m----> 3\u001b[1;33m \u001b[0mname\u001b[0m\u001b[1;33m[\u001b[0m\u001b[1;36m0\u001b[0m\u001b[1;33m]\u001b[0m \u001b[1;33m=\u001b[0m \u001b[1;34m\"A\"\u001b[0m\u001b[1;33m\u001b[0m\u001b[1;33m\u001b[0m\u001b[0m\n\u001b[0m\u001b[0;32m      4\u001b[0m \u001b[0mprint\u001b[0m\u001b[1;33m(\u001b[0m\u001b[0mname\u001b[0m\u001b[1;33m)\u001b[0m\u001b[1;33m\u001b[0m\u001b[1;33m\u001b[0m\u001b[0m\n",
      "\u001b[1;31mTypeError\u001b[0m: 'str' object does not support item assignment"
     ]
    }
   ],
   "source": [
    "# 문자열 데이터 바꾸기\n",
    "name = \"apple\"\n",
    "name[0] = \"A\"\n",
    "print(name)"
   ]
  },
  {
   "cell_type": "code",
   "execution_count": null,
   "metadata": {},
   "outputs": [],
   "source": []
  }
 ],
 "metadata": {
  "kernelspec": {
   "display_name": "Python 3",
   "language": "python",
   "name": "python3"
  },
  "language_info": {
   "codemirror_mode": {
    "name": "ipython",
    "version": 3
   },
   "file_extension": ".py",
   "mimetype": "text/x-python",
   "name": "python",
   "nbconvert_exporter": "python",
   "pygments_lexer": "ipython3",
   "version": "3.8.5"
  }
 },
 "nbformat": 4,
 "nbformat_minor": 4
}
