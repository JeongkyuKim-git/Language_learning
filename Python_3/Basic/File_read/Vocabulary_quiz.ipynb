{
 "cells": [
  {
   "cell_type": "markdown",
   "metadata": {},
   "source": [
    "# 단어 퀴즈\n",
    "\n",
    "- 앞선 vocabulary.txt라는 파일을 사용하여, 이 파일에는 우리가 암기하고 싶은 단어들이 정리되어 있는데요. 이번에는 이 파일의 단어들을 가지고 학생들에게 문제를 내 주는 프로그램을 만들려고 합니다.\n",
    "<br>\n",
    "\n",
    "- 프로그램은 콘솔에 한국어 뜻을 알려 줄 것이고, 사용자는 그에 맞는 영어 단어를 입력해야 합니다. 사용자가 입력한 영어 단어가 정답이면 \"맞았습니다!\"라고 출력하고, 틀리면 \"아쉽습니다. 정답은 OOO입니다.\"가 출력되어야 합니다.\n",
    "<br>\n",
    "\n",
    "- 문제를 내는 순서는 vocabulary.txt에 정리된 순서입니다.\n",
    "<br>\n",
    "\n",
    "### 프로그램 예시 동작\n",
    "``` python\n",
    "고양이: cat\n",
    "맞았습니다!\n",
    "\n",
    "사과: fruit\n",
    "아쉽습니다. 정답은 apple입니다.\n",
    "\n",
    "교회: church\n",
    "맞았습니다!\n",
    "\n",
    "절: tample\n",
    "아쉽습니다. 정답은 temple입니다.\n",
    "\n",
    "```"
   ]
  },
  {
   "cell_type": "code",
   "execution_count": 50,
   "metadata": {},
   "outputs": [
    {
     "name": "stdout",
     "output_type": "stream",
     "text": [
      "사과: q\n",
      "단어 퀴즈를 종료하겠습니다.\n"
     ]
    }
   ],
   "source": [
    "#-*-coding:utf-8-*-\n",
    "\n",
    "#import os\n",
    "\n",
    "# def clearConsole():\n",
    "#     os.system('cls')\n",
    "    \n",
    "# voca_file = vocabulary.txt의 별칭\n",
    "with open(\"Data/vocabulary.txt\", \"r\", encoding=\"EUC-kr\") as voca_file:\n",
    "    \n",
    "    # line을 받아서 리스트로 만듭니다.\n",
    "    for line in voca_file:\n",
    "        # split은 \": \" 불필요한 부분은 건너뜁니다. \n",
    "        data = line.split(\": \")\n",
    "        \n",
    "        # 영어 지문과 한글 지문에 대해 리스트 0번과 1번을 저장합니다.\n",
    "        # 이때, 한글 지문은 strip 함수를 사용하지 않으면, 입력이 밑으로 내려갑니다.\n",
    "        korean_data = data[1].strip()\n",
    "        english_data = data[0]\n",
    "        \n",
    "        # print(korean_data)\n",
    "        # print(english_data)\n",
    "        \n",
    "        # quiz는 사용자의 입력입니다.\n",
    "        quiz_answer = input(f\"{korean_data}: \")\n",
    "        \n",
    "        # 조건문항으로 퀴즈 답이 동일할시 정답인정, 아닐시 정답을 알려주고 q를 누르면 종료합니다.\n",
    "        if english_data == quiz_answer:\n",
    "            print(\"맞았습니다! \\n\")\n",
    "            \n",
    "        elif quiz_answer == \"q\":\n",
    "            #clearConsole()\n",
    "            print(\"단어 퀴즈를 종료하겠습니다.\")\n",
    "            break\n",
    "            \n",
    "        else:\n",
    "            print(f\"아쉽습니다. 정답은 {english_data}입니다. \\n\")"
   ]
  }
 ],
 "metadata": {
  "kernelspec": {
   "display_name": "Python 3",
   "language": "python",
   "name": "python3"
  },
  "language_info": {
   "codemirror_mode": {
    "name": "ipython",
    "version": 3
   },
   "file_extension": ".py",
   "mimetype": "text/x-python",
   "name": "python",
   "nbconvert_exporter": "python",
   "pygments_lexer": "ipython3",
   "version": "3.8.5"
  }
 },
 "nbformat": 4,
 "nbformat_minor": 4
}
