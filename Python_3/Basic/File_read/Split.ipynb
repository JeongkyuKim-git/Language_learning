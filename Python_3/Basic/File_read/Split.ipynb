{
 "cells": [
  {
   "cell_type": "code",
   "execution_count": 5,
   "metadata": {},
   "outputs": [
    {
     "name": "stdout",
     "output_type": "stream",
     "text": [
      "['1', ' 2', ' 3', ' 4', ' 5', ' 6']\n"
     ]
    }
   ],
   "source": [
    "# split\n",
    "my_string = \"1. 2. 3. 4. 5. 6\"\n",
    "print(my_string.split(\".\"))"
   ]
  },
  {
   "cell_type": "code",
   "execution_count": 7,
   "metadata": {},
   "outputs": [
    {
     "name": "stdout",
     "output_type": "stream",
     "text": [
      "['Hong', 'Gildong']\n"
     ]
    }
   ],
   "source": [
    "full_name = \"Hong, Gildong\"\n",
    "print(full_name.split(\", \"))"
   ]
  },
  {
   "cell_type": "code",
   "execution_count": 9,
   "metadata": {},
   "outputs": [
    {
     "name": "stdout",
     "output_type": "stream",
     "text": [
      "Gildong Hong\n"
     ]
    }
   ],
   "source": [
    "full_name = \"Hong, Gildong\"\n",
    "name_data = full_name.split(\", \")\n",
    "last_name = name_data[0]\n",
    "first_name = name_data[1]\n",
    "\n",
    "print(first_name,last_name)"
   ]
  },
  {
   "cell_type": "code",
   "execution_count": 15,
   "metadata": {},
   "outputs": [
    {
     "name": "stdout",
     "output_type": "stream",
     "text": [
      "23\n",
      "5\n"
     ]
    }
   ],
   "source": [
    "numbers =\"    \\n\\n  2  \\t  3  \\n  5 7 11  \\n\\n\".split()\n",
    "print(numbers[0] + numbers[1])\n",
    "\n",
    "numbers =\"    \\n\\n  2  \\t  3  \\n  5 7 11  \\n\\n\".split()\n",
    "print(int(numbers[0]) + int(numbers[1]))"
   ]
  },
  {
   "cell_type": "code",
   "execution_count": null,
   "metadata": {},
   "outputs": [],
   "source": []
  }
 ],
 "metadata": {
  "kernelspec": {
   "display_name": "Python 3",
   "language": "python",
   "name": "python3"
  },
  "language_info": {
   "codemirror_mode": {
    "name": "ipython",
    "version": 3
   },
   "file_extension": ".py",
   "mimetype": "text/x-python",
   "name": "python",
   "nbconvert_exporter": "python",
   "pygments_lexer": "ipython3",
   "version": "3.8.5"
  }
 },
 "nbformat": 4,
 "nbformat_minor": 4
}
