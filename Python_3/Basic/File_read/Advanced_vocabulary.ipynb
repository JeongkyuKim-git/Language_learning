{
 "cells": [
  {
   "cell_type": "markdown",
   "metadata": {},
   "source": [
    "# 고급 단어장\n",
    "\n",
    "- 지난 실습 과제에서 단어장 퀴즈 프로그램을 만들었는데요. 학생들이 문제의 순서가 매번 똑같아서 재미가 없다고 합니다.\n",
    "<br>\n",
    "\n",
    "- 이번에는 random 모듈과 사전(dictionary)을 이용해서 vocabulary.txt의 단어들을 랜덤한 순서로 내도록 프로그램을 바꿔 보세요.\n",
    "<br>\n",
    "\n",
    "- 같은 단어를 여러번 물어봐도 괜찮고, 프로그램은 사용자가 알파벳 q를 입력할 때까지 계속 실행됩니다.\n",
    "\n",
    "### 프로그램 예시 동작\n",
    "``` python\n",
    "교회: church\n",
    "맞았습니다!\n",
    "\n",
    "사과: apple\n",
    "맞았습니다!\n",
    "\n",
    "자전거: bicycle\n",
    "맞았습니다!\n",
    "\n",
    "지갑: wallet\n",
    "맞았습니다!\n",
    "\n",
    "교회: church\n",
    "맞았습니다!\n",
    "\n",
    "절: tample\n",
    "틀렸습니다. 정답은 temple입니다.\n",
    "\n",
    "비누: soap\n",
    "맞았습니다!\n",
    "\n",
    "고양이: dog\n",
    "틀렸습니다. 정답은 cat입니다.\n",
    "\n",
    "자전거: q\n",
    "```"
   ]
  },
  {
   "cell_type": "markdown",
   "metadata": {},
   "source": [
    "### list를 사용하여, 고급 단어장 만들기"
   ]
  },
  {
   "cell_type": "code",
   "execution_count": 59,
   "metadata": {},
   "outputs": [
    {
     "name": "stdout",
     "output_type": "stream",
     "text": [
      "고양이: cat\n",
      "맞았습니다! \n",
      "\n",
      "개: d\n",
      "틀렸습니다. 정답은 dog입니다. \n",
      "\n",
      "사과: apple\n",
      "맞았습니다! \n",
      "\n"
     ]
    }
   ],
   "source": [
    "#-*-coding:utf-8-*-\n",
    "import random\n",
    "\n",
    "memolize = []\n",
    "\n",
    "with open(\"vocabulary.txt\",\"r\", encoding = \"UTF-8\") as voca_file:\n",
    "    \n",
    "    # 랜덤한 문제 받아오기 shuffle을 통해서 문제를 섞습니다.\n",
    "    for line in voca_file:\n",
    "        memolize.append(line.strip())\n",
    "        random.shuffle(memolize)\n",
    "    \n",
    "    # 문제 내기          \n",
    "    for i in range(len(memolize)):\n",
    "        list_word = memolize[i]\n",
    "        temp = list_word.split(\": \")\n",
    "        \n",
    "        korean_word = temp[1].strip()\n",
    "        # print(korean_word)\n",
    "        \n",
    "        english_word = temp[0]\n",
    "        # print(english_word)\n",
    "        \n",
    "        # 사용자 입력값 받기\n",
    "        quiz_answer = input(f\"{korean_word}: \")\n",
    "        # quiz_answer = input(\"{}: \".format(korean_word))\n",
    "        \n",
    "        # 프로그램 끝내기\n",
    "        if quiz_answer == \"q\":\n",
    "            print(\"종료하겠습니다. \\n\")\n",
    "            break\n",
    "        \n",
    "        # 정답 확인하기\n",
    "        if english_word == quiz_answer:\n",
    "            print(\"맞았습니다! \\n\")\n",
    "            \n",
    "        else:\n",
    "            print(f\"틀렸습니다. 정답은 {english_word}입니다. \\n\")"
   ]
  },
  {
   "cell_type": "markdown",
   "metadata": {},
   "source": [
    "### dictionary를 사용하여 고급 단어장 만들기 "
   ]
  },
  {
   "cell_type": "code",
   "execution_count": 66,
   "metadata": {
    "scrolled": true
   },
   "outputs": [
    {
     "name": "stdout",
     "output_type": "stream",
     "text": [
      "고양이: q\n"
     ]
    }
   ],
   "source": [
    "#-*-coding:utf-8-*-\n",
    "import random\n",
    "\n",
    "# 사전 만들기\n",
    "memolize = {}\n",
    "with open('vocabulary.txt', 'r', encoding = \"UTF-8\") as voca_file:\n",
    "    for line in voca_file:\n",
    "        data = line.strip().split(\": \")\n",
    "        english_word, korean_word = data[0], data[1]\n",
    "        memolize[english_word] = korean_word\n",
    "\n",
    "    # print(memolize)\n",
    "    \n",
    "# 목록 가져오기\n",
    "keys = list(vocab.keys())\n",
    "# print(keys)\n",
    "    \n",
    "# 문제 내기\n",
    "while True:\n",
    "    # 랜덤한 문제 받아오기\n",
    "    # randint(시작, 끝)은 정수 난수를 생성한다.\n",
    "    index = random.randint(0, len(keys) - 1)\n",
    "    english_word = keys[index]\n",
    "    korean_word = vocab[english_word]\n",
    "    \n",
    "    # 유저 입력값 받기\n",
    "    quiz_answer = input(\"{}: \".format(korean_word))\n",
    "    \n",
    "    # 프로그램 끝내기\n",
    "    if quiz_answer == 'q':\n",
    "        break\n",
    "    \n",
    "    # 정답 확인하기\n",
    "    if quiz_answer == english_word:\n",
    "        print(\"정답입니다!\\n\")\n",
    "        \n",
    "    else:\n",
    "        print(\"아쉽습니다. 정답은 {}입니다.\\n\".format(english_word))"
   ]
  },
  {
   "cell_type": "code",
   "execution_count": null,
   "metadata": {},
   "outputs": [],
   "source": []
  }
 ],
 "metadata": {
  "kernelspec": {
   "display_name": "Python 3",
   "language": "python",
   "name": "python3"
  },
  "language_info": {
   "codemirror_mode": {
    "name": "ipython",
    "version": 3
   },
   "file_extension": ".py",
   "mimetype": "text/x-python",
   "name": "python",
   "nbconvert_exporter": "python",
   "pygments_lexer": "ipython3",
   "version": "3.8.5"
  }
 },
 "nbformat": 4,
 "nbformat_minor": 4
}
