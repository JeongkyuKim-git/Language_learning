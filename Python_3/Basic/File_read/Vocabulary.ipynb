{
 "cells": [
  {
   "cell_type": "markdown",
   "metadata": {},
   "source": [
    "# 단어장 만들기\n",
    "- 영어 강사 Coy는 학생들의 단어 암기를 위해 단어장 프로그램을 만들려고 합니다.\n",
    "<br>\n",
    "\n",
    "- 이 프로그램은 콘솔로 영어 단어와 한국어 뜻을 받고, vocabulary.txt라는 새로운 텍스트 파일에 단어와 뜻을 정리하는데요. 사용자가 새로운 단어와 뜻을 입력할 때마다 vocabulary.txt에 작성되는 것입니다.\n",
    "<br>\n",
    "\n",
    "- 사용자는 반복적으로 단어와 뜻을 입력하는데, 단어나 뜻으로 q를 입력하는 순간 프로그램은 즉시 종료됩니다. 사용자가 q를 입력하고 나면 파일은 더 이상 바뀌지 않아야 합니다."
   ]
  },
  {
   "cell_type": "markdown",
   "metadata": {},
   "source": [
    "### 프로그램 예시 동작\n",
    "- 프로그램의 예시 동작은 아래와 같습니다.\n",
    "\n",
    "``` python\n",
    "영어 단어를 입력하세요:\n",
    "\n",
    "영어 단어를 입력하세요: cat\n",
    "한국어 뜻을 입력하세요:\n",
    "\n",
    "영어 단어를 입력하세요: cat\n",
    "한국어 뜻을 입력하세요: 고양이\n",
    "영어 단어를 입력하세요:\n",
    "\n",
    "영어 단어를 입력하세요: cat\n",
    "한국어 뜻을 입력하세요: 고양이\n",
    "영어 단어를 입력하세요: apple\n",
    "한국어 뜻을 입력하세요:\n",
    "\n",
    "영어 단어를 입력하세요: cat\n",
    "한국어 뜻을 입력하세요: 고양이\n",
    "영어 단어를 입력하세요: apple\n",
    "한국어 뜻을 입력하세요: 사과\n",
    "영어 단어를 입력하세요:\n",
    "```\n",
    "\n",
    "- 사용자가 q를 입력하면 프로그램이 종료되고, vocabulary.txt에 다음과 같이 단어들이 정리되어 있어야 합니다.\n",
    "\n",
    "### Tip\n",
    "\n",
    "<ol>\n",
    "    <li>영어 단어를 입력 받는다.</li>\n",
    "    <li>만약 유저가 q를 입력했으면 프로그램을 종료한다.</li>\n",
    "    <li>한국어 뜻을 받는다.</li>\n",
    "    <li>만약 유저가 q를 입력했으면 프로그램을 종료한다.</li>\n",
    "    <li>영어 단어와 한국어 뜻을 단어: 뜻의 형태로 파일에 작성한다.</li>\n",
    "</ol>"
   ]
  },
  {
   "cell_type": "code",
   "execution_count": 5,
   "metadata": {},
   "outputs": [
    {
     "name": "stdout",
     "output_type": "stream",
     "text": [
      "영어 단어를 입력하세요: fruit\n",
      "한국어 뜻을 입력하세요: 사과\n",
      "영어 단어를 입력하세요: q\n"
     ]
    }
   ],
   "source": [
    "#-*-coding:utf-8-*-\n",
    "\n",
    "with open('Data/vocabulary.txt', 'w', encoding=\"utf-8\") as f:\n",
    "    while True:\n",
    "        english_word = str(input(\"영어 단어를 입력하세요: \"))\n",
    "        if english_word == \"q\":\n",
    "            break\n",
    "\n",
    "        korean_word = str(input(\"한국어 뜻을 입력하세요: \"))\n",
    "        if korean_word == \"q\":\n",
    "            break\n",
    "\n",
    "        f.write('{}: {}\\n'.format(english_word, korean_word))\n",
    "\n",
    "        # f.write(english_word)\n",
    "        # f.write(\": \")\n",
    "        # f.write(korean_word)\n",
    "        # f.write(\"\\n\")"
   ]
  }
 ],
 "metadata": {
  "kernelspec": {
   "display_name": "Python 3",
   "language": "python",
   "name": "python3"
  },
  "language_info": {
   "codemirror_mode": {
    "name": "ipython",
    "version": 3
   },
   "file_extension": ".py",
   "mimetype": "text/x-python",
   "name": "python",
   "nbconvert_exporter": "python",
   "pygments_lexer": "ipython3",
   "version": "3.8.5"
  }
 },
 "nbformat": 4,
 "nbformat_minor": 4
}
