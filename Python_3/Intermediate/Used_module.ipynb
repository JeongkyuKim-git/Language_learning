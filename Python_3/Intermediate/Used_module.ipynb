{
 "cells": [
  {
   "cell_type": "markdown",
   "metadata": {},
   "source": [
    "# 이미지를 다루는 모듈\n",
    "\n",
    "### 이미지 표현 방법\n",
    "- 이미지를 비트맵 형식으로 표현합니다. 비트맵은 꽤나 직관적인데, 각 픽셀(이미지를 구성하는 가장 작은 점들)의 색깔을 이진수로 저장해 놓은 맵(지도)입니다. 흑백 이미지만 다뤄볼 건데요. 이미지가 흑백이면 0과 1로 흰색과 검은색을 나타낼 수 있겠죠? 아래 그림은 어떤 흑백 이미지를 비트맵 형식으로 표현한 겁니다.\n",
    "<br>\n",
    "\n",
    "![image_title](picture.png)\n",
    "\n",
    "- 참고로 '비트(bit)'는 0 또는 1의 값을 뜻합니다.\n",
    "<br>\n",
    "\n",
    "- 그럼 파이썬에서는 비트맵을 어떻게 다룰까요? 파이썬에서는 비트맵 같은 2차원 데이터를 다룰 때 중첩된 리스트를 사용할 수 있습니다. 비트맵의 각 행을 리스트로 만들고 그 리스트들을 모아서 리스트를 만드는 거죠.\n",
    "<br>\n",
    "\n",
    "![image_title](picture01.png)\n",
    "\n",
    "- 중첩된 리스트도 결국 리스트 문법만 알면 쉽게 사용할 수 있습니다.\n",
    "<br>\n",
    "\n",
    "``` python\n",
    "img = [\n",
    "    [1,0,0,0,1],\n",
    "    [0,1,0,0,1],\n",
    "    [0,0,0,0,1],\n",
    "    [1,0,1,0,1],\n",
    "    [1,0,0,0,0]\n",
    "]\n",
    "\n",
    "# 첫 번째 괄호 안에 있는 숫자는 행을 뜻하고 두 번째 괄호 안에 있는 숫자는 열을 뜻함\n",
    "print(img[1]) # 2번째 행 \n",
    "print(img[1][2]) # 2번째 행, 3번째 열\n",
    "print(img[3][0]) # 4번째 행, 1번째 열\n",
    "```  \n",
    "\n",
    "### 출력  \n",
    "``` python\n",
    "[0, 1, 0, 0, 1]\n",
    "0\n",
    "1\n",
    "```"
   ]
  },
  {
   "cell_type": "code",
   "execution_count": null,
   "metadata": {},
   "outputs": [],
   "source": []
  }
 ],
 "metadata": {
  "kernelspec": {
   "display_name": "Python 3",
   "language": "python",
   "name": "python3"
  },
  "language_info": {
   "codemirror_mode": {
    "name": "ipython",
    "version": 3
   },
   "file_extension": ".py",
   "mimetype": "text/x-python",
   "name": "python",
   "nbconvert_exporter": "python",
   "pygments_lexer": "ipython3",
   "version": "3.8.5"
  }
 },
 "nbformat": 4,
 "nbformat_minor": 4
}
