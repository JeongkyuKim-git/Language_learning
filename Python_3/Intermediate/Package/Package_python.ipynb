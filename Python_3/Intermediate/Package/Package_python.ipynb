{
 "cells": [
  {
   "cell_type": "markdown",
   "metadata": {},
   "source": [
    "# 패키지란?\n",
    "\n",
    "- 패키지는 모듈들을 모아 놓은 디렉토리를 뜻합니다.\n",
    "<br>\n",
    "\n",
    "- 예를 들어 우리는 평면도형의 면적을 구해 주는 area 모듈과 입체도형의 부피를 구해주는 volume 모듈을 모아서 shapes라는 패키지를 만들었습니다. shapes 패키지의 구조는 아래와 같습니다.\n",
    "<br>\n",
    "\n",
    "``` python\n",
    "shapes/\n",
    "    __init__.py\n",
    "    area.py\n",
    "    volume.py\n",
    "```\n",
    "<br>\n",
    "\n",
    "#### shapes/area.py"
   ]
  },
  {
   "cell_type": "code",
   "execution_count": 3,
   "metadata": {},
   "outputs": [],
   "source": [
    "PI = 3.14\n",
    "\n",
    "# 원의 면적을 구해 주는 함수\n",
    "def circle(radius):\n",
    "    return PI * radius * radius\n",
    "\n",
    "# 정사각형의 면적을 구해 주는 함수\n",
    "def square(length):\n",
    "    return length * length"
   ]
  },
  {
   "cell_type": "markdown",
   "metadata": {},
   "source": [
    "#### shapes/volume.py"
   ]
  },
  {
   "cell_type": "code",
   "execution_count": 4,
   "metadata": {},
   "outputs": [],
   "source": [
    "PI = 3.14\n",
    "\n",
    "# 구의 부피를 구해 주는 함수\n",
    "def sphere(radius):\n",
    "    return (4/3) * PI * radius * radius * radius\n",
    "\n",
    "# 정육면체의 부피를 구해 주는 함수\n",
    "def cube(length):\n",
    "    return length * length * length"
   ]
  },
  {
   "cell_type": "markdown",
   "metadata": {},
   "source": [
    "- 패키지는 일반 디렉토리와 똑같은데 안에 __init__.py라는 파일이 있습니다.\n",
    "<br>\n",
    "\n",
    "### 패키지 임포트\n",
    "- 모듈과 비슷하게 패키지 안에 있는 내용을 가져올 때도 import 키워드를 사용합니다.\n",
    "<br>\n",
    "\n",
    "### import <package.module>\n",
    "#### run.py"
   ]
  },
  {
   "cell_type": "code",
   "execution_count": null,
   "metadata": {},
   "outputs": [],
   "source": [
    "import shapes.volume\n",
    "\n",
    "print(shapes.volume.cube(3))"
   ]
  },
  {
   "cell_type": "markdown",
   "metadata": {},
   "source": [
    "- 이렇게 패키지 안에 있는 모듈을 가져올 수 있습니다. 패키지나 모듈 안에 있는 것은 항상 . 을 이용해서 접근합니다.\n",
    "\n",
    "### import shapes.volume\n",
    "#### run.py"
   ]
  },
  {
   "cell_type": "code",
   "execution_count": null,
   "metadata": {},
   "outputs": [],
   "source": [
    "import shapes\n",
    "\n",
    "print(shapes.volume.cube(3)) # 오류"
   ]
  },
  {
   "cell_type": "markdown",
   "metadata": {},
   "source": [
    "- 이렇게 패키지 자체를 임포트할 수도 있는데 그러면 패키지 안에 있는 내용들은 임포트되지 않습니다 (패키지 안에 있는 모듈도 같이 임포트하려면 패키지의 init 파일을 활용해야 합니다 - 다음 레슨들 참고). 그래서 위 코드는 오류가 납니다.\n",
    "\n",
    "- 참고로 import ... 방식을 써서는 모듈의 함수나 변수를 바로 가져올 수 없습니다.\n",
    "\n",
    "#### run.py"
   ]
  },
  {
   "cell_type": "code",
   "execution_count": null,
   "metadata": {},
   "outputs": [],
   "source": [
    "import shapes.volume.cube # 오류"
   ]
  },
  {
   "cell_type": "markdown",
   "metadata": {},
   "source": [
    "- import ... 방식으로는 패키지나 모듈만 임포트할 수 있습니다.\n",
    "\n",
    "### from <package> import <module(s)>\n",
    "#### run.py"
   ]
  },
  {
   "cell_type": "code",
   "execution_count": null,
   "metadata": {},
   "outputs": [],
   "source": [
    "from shapes import volume\n",
    "print(volume.cube(3))"
   ]
  },
  {
   "cell_type": "markdown",
   "metadata": {},
   "source": [
    "- from ... import ... 방식도 패키지에 쓸 수 있습니다. 패키지 안의 모듈을 바로 가져올 수도 있고..."
   ]
  },
  {
   "cell_type": "markdown",
   "metadata": {},
   "source": [
    "### from <package.module> import <member(s)>\n",
    "- 전처럼 모듈 안에 있는 변수나 함수를 가져올 수도 있습니다.\n",
    "<br>\n",
    "\n",
    "#### run.py"
   ]
  },
  {
   "cell_type": "code",
   "execution_count": null,
   "metadata": {},
   "outputs": [],
   "source": [
    "from shapes.volume import cube\n",
    "\n",
    "print(cube(3))"
   ]
  },
  {
   "cell_type": "markdown",
   "metadata": {},
   "source": [
    "### as 키워드\n",
    "- 그리고 임포트 문 뒤에 as 키워드를 써서 임포트하는 것의 이름을 바꿔줄 수 있습니다.\n",
    "<br>\n",
    "\n",
    "run.py"
   ]
  },
  {
   "cell_type": "code",
   "execution_count": null,
   "metadata": {},
   "outputs": [],
   "source": [
    "import shapes.volume as vol\n",
    "\n",
    "print(vol.cube(3))"
   ]
  }
 ],
 "metadata": {
  "kernelspec": {
   "display_name": "Python 3",
   "language": "python",
   "name": "python3"
  },
  "language_info": {
   "codemirror_mode": {
    "name": "ipython",
    "version": 3
   },
   "file_extension": ".py",
   "mimetype": "text/x-python",
   "name": "python",
   "nbconvert_exporter": "python",
   "pygments_lexer": "ipython3",
   "version": "3.8.5"
  }
 },
 "nbformat": 4,
 "nbformat_minor": 4
}
