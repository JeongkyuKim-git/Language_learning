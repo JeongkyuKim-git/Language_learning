{
 "cells": [
  {
   "cell_type": "markdown",
   "metadata": {},
   "source": [
    "# 환전 서비스\n",
    "- 제가 구매하고 싶은 물건들의 가격을 리스트에 정리해 놨습니다.\n",
    "\n",
    "``` python\n",
    "prices = [34000, 13000, 5000, 21000, 1000, 2000, 8000, 3000\n",
    "```\n",
    "\n",
    "- 가격의 단위는 모두 원화(￦)인데요. 이 물건들의 가격을 미국 달러(&amp;)로 하면 얼마일지, 그리고 일본 엔화(￥)로 하면 얼마일지 확인해 보려고 합니다.\n",
    "\n",
    "- 해야 할 일\n",
    "우리가 해야 할 일은 크게 두 가지입니다.\n",
    "\n",
    "<ol>\n",
    "    <li>함수 작성</li>\n",
    "    <li>반복문을 통해 리스트 요소들 변환</li>\n",
    "</ol>"
   ]
  },
  {
   "cell_type": "markdown",
   "metadata": {},
   "source": [
    "### 1. 함수 작성\n",
    "\n",
    "- 먼저 한국 원화를 미국 달러로 변환해 주는 krw_to_usd 함수, 그리고 미국 달러를 일본 엔화로 변환해 주는 usd_to_jpy 함수를 써야 하는데요. krw_to_usd 함수는 파라미터로 원화 krw을 받아서 변환된 미국 달러 액수를 리턴해 줍니다. 마찬가지로 usd_to_jpy 함수는 파라미터로 달러 usd를 받아서 변환된 일본 엔화 액수를 리턴해 주는 거죠.\n",
    "\n",
    "- 참고로 환율은 1달러에 1,000원, 그리고 1,000엔에 8달러라고 가정합니다."
   ]
  },
  {
   "cell_type": "markdown",
   "metadata": {},
   "source": [
    "### 2. 반복문을 통해 리스트 요소들 변환\n",
    "- 반복문을 사용해서 리스트의 요소들을 각각 다른 화폐로 변환해야 하는데요. 그 과정에서 krw_to_usd 함수와 usd_to_jpy 함수를 활용하면 되겠죠?"
   ]
  },
  {
   "cell_type": "markdown",
   "metadata": {},
   "source": [
    "- 위 코드를 완성하고 실행하면 아래와 같이 출력됩니다.\n",
    "```python\n",
    "한국 화폐: [34000, 13000, 5000, 21000, 1000, 2000, 8000, 3000]\n",
    "미국 화폐: [34.0, 13.0, 5.0, 21.0, 1.0, 2.0, 8.0, 3.0]\n",
    "일본 화폐: [4250.0, 1625.0, 625.0, 2625.0, 125.0, 250.0, 1000.0, 375.0]\n",
    "```"
   ]
  },
  {
   "cell_type": "code",
   "execution_count": 30,
   "metadata": {},
   "outputs": [
    {
     "name": "stdout",
     "output_type": "stream",
     "text": [
      "한국 화폐: [34000, 13000, 5000, 21000, 1000, 2000, 8000, 3000]\n",
      "미국 화폐: [34.0, 13.0, 5.0, 21.0, 1.0, 2.0, 8.0, 3.0]\n",
      "일본 화폐: [4250.0, 1625.0, 625.0, 2625.0, 125.0, 250.0, 1000.0, 375.0]\n"
     ]
    }
   ],
   "source": [
    "# 원화(￦)에서 달러(&amp;)로 변환하는 함수\n",
    "def krw_to_usd(krw):\n",
    "    # 코드를 입력하세요.\n",
    "    return krw * 0.001\n",
    "\n",
    "# 달러(&amp;)에서 엔화(￥)로 변환하는 함수\n",
    "def usd_to_jpy(usd):\n",
    "    # 코드를 입력하세요.\n",
    "    return usd * 125\n",
    "\n",
    "# 원화(￦)으로 각각 얼마인가요?\n",
    "prices = [34000, 13000, 5000, 21000, 1000, 2000, 8000, 3000]\n",
    "print(\"한국 화폐: \" + str(prices))\n",
    " \n",
    "# prices를 원화(￦)에서 달러($)로 변환하기\n",
    "i = 0\n",
    "while i <=len(prices)-1:\n",
    "    prices[i] = krw_to_usd(prices[i])\n",
    "    i += 1\n",
    "    \n",
    "# 달러($)로 각각 얼마인가요?\n",
    "print(\"미국 화폐: \" + str(prices))\n",
    "\n",
    "# prices를 달러($)에서 엔화(￥)로 변환하기\n",
    "i = 0\n",
    "while i <=len(prices)-1:\n",
    "    prices[i] = usd_to_jpy(prices[i])\n",
    "    i += 1\n",
    "\n",
    "# 엔화(￥)으로 각각 얼마인가요?\n",
    "print(\"일본 화폐: \" + str(prices))"
   ]
  },
  {
   "cell_type": "code",
   "execution_count": null,
   "metadata": {},
   "outputs": [],
   "source": []
  }
 ],
 "metadata": {
  "kernelspec": {
   "display_name": "Python 3",
   "language": "python",
   "name": "python3"
  },
  "language_info": {
   "codemirror_mode": {
    "name": "ipython",
    "version": 3
   },
   "file_extension": ".py",
   "mimetype": "text/x-python",
   "name": "python",
   "nbconvert_exporter": "python",
   "pygments_lexer": "ipython3",
   "version": "3.8.5"
  }
 },
 "nbformat": 4,
 "nbformat_minor": 4
}
